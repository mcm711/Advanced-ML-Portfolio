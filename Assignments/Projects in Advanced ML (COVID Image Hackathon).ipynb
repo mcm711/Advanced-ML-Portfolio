{
 "cells": [
  {
   "cell_type": "markdown",
   "metadata": {
    "id": "5pkiXe4PoawW"
   },
   "source": [
    "# Advanced ML Assignment 2 - Covid Prediction Models with Image Data"
   ]
  },
  {
   "cell_type": "code",
   "execution_count": 1,
   "metadata": {
    "colab": {
     "base_uri": "https://localhost:8080/"
    },
    "id": "1CgDn3e5xNrV",
    "outputId": "3e51126d-16fd-4f8c-d187-cf23a075d334"
   },
   "outputs": [
    {
     "name": "stdout",
     "output_type": "stream",
     "text": [
      "Drive already mounted at /content/drive; to attempt to forcibly remount, call drive.mount(\"/content/drive\", force_remount=True).\n"
     ]
    }
   ],
   "source": [
    "from google.colab import drive\n",
    "drive.mount('/content/drive')"
   ]
  },
  {
   "cell_type": "code",
   "execution_count": 2,
   "metadata": {
    "colab": {
     "base_uri": "https://localhost:8080/"
    },
    "id": "3GuTB3NnSxka",
    "outputId": "1d048268-1d97-4e1c-fad2-ccc77e0e67dd"
   },
   "outputs": [
    {
     "name": "stdout",
     "output_type": "stream",
     "text": [
      "Drive already mounted at /content/drive; to attempt to forcibly remount, call drive.mount(\"/content/drive\", force_remount=True).\n"
     ]
    }
   ],
   "source": [
    "# Connect to google drive\n",
    "import os\n",
    "from google.colab import drive\n",
    "drive.mount('/content/drive')\n",
    "\n",
    "# content in your drive is now available via \"/content/drive/My Drive\"\n"
   ]
  },
  {
   "cell_type": "code",
   "execution_count": null,
   "metadata": {
    "id": "DuYdaUsfv79-"
   },
   "outputs": [],
   "source": [
    "# Import data and unzip files to folder\n",
    "!unzip /content/drive/MyDrive/covid_radiography_data/COVID-19_Radiography_Dataset.zip"
   ]
  },
  {
   "cell_type": "code",
   "execution_count": 2,
   "metadata": {
    "id": "Mu2zq86HwZFU"
   },
   "outputs": [],
   "source": [
    "# Load libraries and then download data\n",
    "\n",
    "import sys\n",
    "import time\n",
    "import cv2\n",
    "import numpy as np\n",
    "from matplotlib import pyplot as plt\n",
    "import tensorflow as tf\n",
    "import os\n",
    "import zipfile\n",
    "\n",
    "from sklearn.model_selection import train_test_split\n",
    "\n",
    "from tensorflow.python.keras.utils import np_utils\n",
    "from tensorflow.keras.models import Sequential, Model\n",
    "from tensorflow.keras.layers import Dense, Dropout, Flatten, Activation, BatchNormalization\n",
    "from tensorflow.python.keras.layers.convolutional import Conv2D, MaxPooling2D \n",
    "from tensorflow.keras.preprocessing.image import ImageDataGenerator\n",
    "from tensorflow.keras.optimizers import Adam,SGD,Adagrad,Adadelta,RMSprop\n",
    "from tensorflow.keras.applications import VGG19, ResNet50, InceptionV3\n"
   ]
  },
  {
   "cell_type": "code",
   "execution_count": null,
   "metadata": {
    "colab": {
     "base_uri": "https://localhost:8080/"
    },
    "id": "dWzvKPdewbLz",
    "outputId": "7b5a7e22-1027-4de9-cfec-34f8565a2faa"
   },
   "outputs": [],
   "source": [
    "# Extracting all filenames iteratively\n",
    "base_path = 'COVID-19_Radiography_Dataset'\n",
    "categories = ['COVID/images', 'Normal/images', 'Viral Pneumonia/images']\n",
    "\n",
    "# load file names to fnames list object\n",
    "fnames = []\n",
    "for category in categories:\n",
    "    image_folder = os.path.join(base_path, category)\n",
    "    file_names = os.listdir(image_folder)\n",
    "    full_path = [os.path.join(image_folder, file_name) for file_name in file_names]\n",
    "    fnames.append(full_path)\n",
    "\n",
    "print('number of images for each category:', [len(f) for f in fnames])\n",
    "print(fnames[0:2]) #examples of file names"
   ]
  },
  {
   "cell_type": "code",
   "execution_count": 21,
   "metadata": {
    "id": "4u-QBVz8fGYR"
   },
   "outputs": [],
   "source": [
    "#Reduce number of images to first 1345 for each category\n",
    "fnames[0]=fnames[0][0:1344]\n",
    "fnames[1]=fnames[1][0:1344]\n",
    "fnames[2]=fnames[2][0:1344]"
   ]
  },
  {
   "cell_type": "code",
   "execution_count": 22,
   "metadata": {
    "id": "DR9fq2m_wx3V"
   },
   "outputs": [],
   "source": [
    "# Import image, load to array of shape height, width, channels, then min/max transform.\n",
    "# Write preprocessor that will match up with model's expected input shape.\n",
    "from keras.preprocessing import image\n",
    "import numpy as np\n",
    "from PIL import Image\n",
    "\n",
    "def preprocessor(img_path):\n",
    "        img = Image.open(img_path).convert(\"RGB\").resize((192,192)) # import image, make sure it's RGB and resize to height and width you want.\n",
    "        img = (np.float32(img)-1.)/(255-1.) # min max transformation\n",
    "        img=img.reshape((192,192,3)) # Create final shape as array with correct dimensions for Keras\n",
    "        return img\n",
    "\n",
    "\n",
    "\n",
    "#Try on single flower file (imports file and preprocesses it to data with following shape)\n",
    "# preprocessor('COVID-19_Radiography_Dataset/COVID/images/COVID-2273.png').shape"
   ]
  },
  {
   "cell_type": "code",
   "execution_count": 23,
   "metadata": {
    "id": "svHoZ-SXw9qX"
   },
   "outputs": [],
   "source": [
    "#Import image files iteratively and preprocess them into array of correctly structured data\n",
    "\n",
    "# Create list of file paths\n",
    "image_filepaths=fnames[0]+fnames[1]+fnames[2]\n",
    "\n",
    "# Iteratively import and preprocess data using map function\n",
    "\n",
    "# map functions apply your preprocessor function one step at a time to each filepath\n",
    "preprocessed_image_data=list(map(preprocessor,image_filepaths ))\n",
    "\n",
    "# Object needs to be an array rather than a list for Keras (map returns to list object)\n",
    "X= np.array(preprocessed_image_data) # Assigning to X to highlight that this represents feature input data for our model"
   ]
  },
  {
   "cell_type": "code",
   "execution_count": 24,
   "metadata": {
    "colab": {
     "base_uri": "https://localhost:8080/"
    },
    "id": "4fjyLDwbxElq",
    "outputId": "17c3991b-3b14-49d9-8c18-c7afe8d783d0"
   },
   "outputs": [
    {
     "data": {
      "text/plain": [
       "4032"
      ]
     },
     "execution_count": 24,
     "metadata": {},
     "output_type": "execute_result"
    }
   ],
   "source": [
    "len(image_filepaths)"
   ]
  },
  {
   "cell_type": "code",
   "execution_count": 25,
   "metadata": {
    "colab": {
     "base_uri": "https://localhost:8080/"
    },
    "id": "dZ9Xo1ADxK1y",
    "outputId": "868aa930-bac6-4431-f4f3-ac44c6e340e7"
   },
   "outputs": [
    {
     "name": "stdout",
     "output_type": "stream",
     "text": [
      "4032\n",
      "(4032, 192, 192, 3)\n",
      "-0.0\n",
      "1.0\n"
     ]
    }
   ],
   "source": [
    "print(len(X) ) #same number of elements as filenames\n",
    "print(X.shape ) #dimensions now 192,192,3 for all images\n",
    "print(X.min().round() ) #min value of every image is zero\n",
    "print(X.max() ) #max value of every image is one\n"
   ]
  },
  {
   "cell_type": "code",
   "execution_count": 26,
   "metadata": {
    "colab": {
     "base_uri": "https://localhost:8080/"
    },
    "id": "BAgj1AWigUnb",
    "outputId": "3b308caf-580d-44c5-b199-ee0f3ee040a0"
   },
   "outputs": [
    {
     "data": {
      "text/plain": [
       "1344"
      ]
     },
     "execution_count": 26,
     "metadata": {},
     "output_type": "execute_result"
    }
   ],
   "source": [
    "len(fnames[2])"
   ]
  },
  {
   "cell_type": "code",
   "execution_count": null,
   "metadata": {
    "colab": {
     "base_uri": "https://localhost:8080/",
     "height": 458
    },
    "id": "pU0Da0m8x9_n",
    "outputId": "3df7322c-7db6-4263-ab19-17a24d02f979"
   },
   "outputs": [
    {
     "name": "stdout",
     "output_type": "stream",
     "text": [
      "number of images for each category: [1344, 1344, 1344]\n",
      "4032\n"
     ]
    },
    {
     "data": {
      "text/html": [
       "\n",
       "  <div id=\"df-c992ff61-f284-462b-9fab-bcb1f025107f\">\n",
       "    <div class=\"colab-df-container\">\n",
       "      <div>\n",
       "<style scoped>\n",
       "    .dataframe tbody tr th:only-of-type {\n",
       "        vertical-align: middle;\n",
       "    }\n",
       "\n",
       "    .dataframe tbody tr th {\n",
       "        vertical-align: top;\n",
       "    }\n",
       "\n",
       "    .dataframe thead th {\n",
       "        text-align: right;\n",
       "    }\n",
       "</style>\n",
       "<table border=\"1\" class=\"dataframe\">\n",
       "  <thead>\n",
       "    <tr style=\"text-align: right;\">\n",
       "      <th></th>\n",
       "      <th>COVID</th>\n",
       "      <th>NORMAL</th>\n",
       "      <th>PNEUMONIA</th>\n",
       "    </tr>\n",
       "  </thead>\n",
       "  <tbody>\n",
       "    <tr>\n",
       "      <th>0</th>\n",
       "      <td>1</td>\n",
       "      <td>0</td>\n",
       "      <td>0</td>\n",
       "    </tr>\n",
       "    <tr>\n",
       "      <th>1</th>\n",
       "      <td>1</td>\n",
       "      <td>0</td>\n",
       "      <td>0</td>\n",
       "    </tr>\n",
       "    <tr>\n",
       "      <th>2</th>\n",
       "      <td>1</td>\n",
       "      <td>0</td>\n",
       "      <td>0</td>\n",
       "    </tr>\n",
       "    <tr>\n",
       "      <th>3</th>\n",
       "      <td>1</td>\n",
       "      <td>0</td>\n",
       "      <td>0</td>\n",
       "    </tr>\n",
       "    <tr>\n",
       "      <th>4</th>\n",
       "      <td>1</td>\n",
       "      <td>0</td>\n",
       "      <td>0</td>\n",
       "    </tr>\n",
       "    <tr>\n",
       "      <th>...</th>\n",
       "      <td>...</td>\n",
       "      <td>...</td>\n",
       "      <td>...</td>\n",
       "    </tr>\n",
       "    <tr>\n",
       "      <th>4027</th>\n",
       "      <td>0</td>\n",
       "      <td>0</td>\n",
       "      <td>1</td>\n",
       "    </tr>\n",
       "    <tr>\n",
       "      <th>4028</th>\n",
       "      <td>0</td>\n",
       "      <td>0</td>\n",
       "      <td>1</td>\n",
       "    </tr>\n",
       "    <tr>\n",
       "      <th>4029</th>\n",
       "      <td>0</td>\n",
       "      <td>0</td>\n",
       "      <td>1</td>\n",
       "    </tr>\n",
       "    <tr>\n",
       "      <th>4030</th>\n",
       "      <td>0</td>\n",
       "      <td>0</td>\n",
       "      <td>1</td>\n",
       "    </tr>\n",
       "    <tr>\n",
       "      <th>4031</th>\n",
       "      <td>0</td>\n",
       "      <td>0</td>\n",
       "      <td>1</td>\n",
       "    </tr>\n",
       "  </tbody>\n",
       "</table>\n",
       "<p>4032 rows × 3 columns</p>\n",
       "</div>\n",
       "      <button class=\"colab-df-convert\" onclick=\"convertToInteractive('df-c992ff61-f284-462b-9fab-bcb1f025107f')\"\n",
       "              title=\"Convert this dataframe to an interactive table.\"\n",
       "              style=\"display:none;\">\n",
       "        \n",
       "  <svg xmlns=\"http://www.w3.org/2000/svg\" height=\"24px\"viewBox=\"0 0 24 24\"\n",
       "       width=\"24px\">\n",
       "    <path d=\"M0 0h24v24H0V0z\" fill=\"none\"/>\n",
       "    <path d=\"M18.56 5.44l.94 2.06.94-2.06 2.06-.94-2.06-.94-.94-2.06-.94 2.06-2.06.94zm-11 1L8.5 8.5l.94-2.06 2.06-.94-2.06-.94L8.5 2.5l-.94 2.06-2.06.94zm10 10l.94 2.06.94-2.06 2.06-.94-2.06-.94-.94-2.06-.94 2.06-2.06.94z\"/><path d=\"M17.41 7.96l-1.37-1.37c-.4-.4-.92-.59-1.43-.59-.52 0-1.04.2-1.43.59L10.3 9.45l-7.72 7.72c-.78.78-.78 2.05 0 2.83L4 21.41c.39.39.9.59 1.41.59.51 0 1.02-.2 1.41-.59l7.78-7.78 2.81-2.81c.8-.78.8-2.07 0-2.86zM5.41 20L4 18.59l7.72-7.72 1.47 1.35L5.41 20z\"/>\n",
       "  </svg>\n",
       "      </button>\n",
       "      \n",
       "  <style>\n",
       "    .colab-df-container {\n",
       "      display:flex;\n",
       "      flex-wrap:wrap;\n",
       "      gap: 12px;\n",
       "    }\n",
       "\n",
       "    .colab-df-convert {\n",
       "      background-color: #E8F0FE;\n",
       "      border: none;\n",
       "      border-radius: 50%;\n",
       "      cursor: pointer;\n",
       "      display: none;\n",
       "      fill: #1967D2;\n",
       "      height: 32px;\n",
       "      padding: 0 0 0 0;\n",
       "      width: 32px;\n",
       "    }\n",
       "\n",
       "    .colab-df-convert:hover {\n",
       "      background-color: #E2EBFA;\n",
       "      box-shadow: 0px 1px 2px rgba(60, 64, 67, 0.3), 0px 1px 3px 1px rgba(60, 64, 67, 0.15);\n",
       "      fill: #174EA6;\n",
       "    }\n",
       "\n",
       "    [theme=dark] .colab-df-convert {\n",
       "      background-color: #3B4455;\n",
       "      fill: #D2E3FC;\n",
       "    }\n",
       "\n",
       "    [theme=dark] .colab-df-convert:hover {\n",
       "      background-color: #434B5C;\n",
       "      box-shadow: 0px 1px 3px 1px rgba(0, 0, 0, 0.15);\n",
       "      filter: drop-shadow(0px 1px 2px rgba(0, 0, 0, 0.3));\n",
       "      fill: #FFFFFF;\n",
       "    }\n",
       "  </style>\n",
       "\n",
       "      <script>\n",
       "        const buttonEl =\n",
       "          document.querySelector('#df-c992ff61-f284-462b-9fab-bcb1f025107f button.colab-df-convert');\n",
       "        buttonEl.style.display =\n",
       "          google.colab.kernel.accessAllowed ? 'block' : 'none';\n",
       "\n",
       "        async function convertToInteractive(key) {\n",
       "          const element = document.querySelector('#df-c992ff61-f284-462b-9fab-bcb1f025107f');\n",
       "          const dataTable =\n",
       "            await google.colab.kernel.invokeFunction('convertToInteractive',\n",
       "                                                     [key], {});\n",
       "          if (!dataTable) return;\n",
       "\n",
       "          const docLinkHtml = 'Like what you see? Visit the ' +\n",
       "            '<a target=\"_blank\" href=https://colab.research.google.com/notebooks/data_table.ipynb>data table notebook</a>'\n",
       "            + ' to learn more about interactive tables.';\n",
       "          element.innerHTML = '';\n",
       "          dataTable['output_type'] = 'display_data';\n",
       "          await google.colab.output.renderOutput(dataTable, element);\n",
       "          const docLink = document.createElement('div');\n",
       "          docLink.innerHTML = docLinkHtml;\n",
       "          element.appendChild(docLink);\n",
       "        }\n",
       "      </script>\n",
       "    </div>\n",
       "  </div>\n",
       "  "
      ],
      "text/plain": [
       "      COVID  NORMAL  PNEUMONIA\n",
       "0         1       0          0\n",
       "1         1       0          0\n",
       "2         1       0          0\n",
       "3         1       0          0\n",
       "4         1       0          0\n",
       "...     ...     ...        ...\n",
       "4027      0       0          1\n",
       "4028      0       0          1\n",
       "4029      0       0          1\n",
       "4030      0       0          1\n",
       "4031      0       0          1\n",
       "\n",
       "[4032 rows x 3 columns]"
      ]
     },
     "metadata": {},
     "output_type": "display_data"
    }
   ],
   "source": [
    "# Create y data made up of correctly ordered labels from file folders\n",
    "from itertools import repeat\n",
    "\n",
    "# Recall that we have five folders with the following number of images in each folder \n",
    "#...corresponding to each flower type\n",
    "\n",
    "print('number of images for each category:', [len(f) for f in fnames])\n",
    "covid=list(repeat(\"COVID\", 1344))\n",
    "normal=list(repeat(\"NORMAL\", 1344))\n",
    "pneumonia=list(repeat(\"PNEUMONIA\", 1344))\n",
    "\n",
    "#combine into single list of y labels\n",
    "y_labels = covid+normal+pneumonia\n",
    "\n",
    "#check length, same as X above\n",
    "print(len(y_labels) )\n",
    "\n",
    "# Need to one hot encode for Keras.  Let's use Pandas\n",
    "\n",
    "import pandas as pd\n",
    "y=pd.get_dummies(y_labels)\n",
    "\n",
    "display(y)"
   ]
  },
  {
   "cell_type": "markdown",
   "metadata": {
    "id": "w-5Izy6zVYVd"
   },
   "source": [
    "# Visualizing Covid Images\n",
    "\n",
    "The top row of images are COVID images, while the bottom row are non-COVID images"
   ]
  },
  {
   "cell_type": "code",
   "execution_count": 33,
   "metadata": {
    "colab": {
     "base_uri": "https://localhost:8080/",
     "height": 429
    },
    "id": "nUTR0fRkybas",
    "outputId": "48bf0ade-3017-4e75-f95a-67941ac30703"
   },
   "outputs": [
    {
     "name": "stderr",
     "output_type": "stream",
     "text": [
      "WARNING:matplotlib.image:Clipping input data to the valid range for imshow with RGB data ([0..1] for floats or [0..255] for integers).\n",
      "WARNING:matplotlib.image:Clipping input data to the valid range for imshow with RGB data ([0..1] for floats or [0..255] for integers).\n",
      "WARNING:matplotlib.image:Clipping input data to the valid range for imshow with RGB data ([0..1] for floats or [0..255] for integers).\n",
      "WARNING:matplotlib.image:Clipping input data to the valid range for imshow with RGB data ([0..1] for floats or [0..255] for integers).\n",
      "WARNING:matplotlib.image:Clipping input data to the valid range for imshow with RGB data ([0..1] for floats or [0..255] for integers).\n",
      "WARNING:matplotlib.image:Clipping input data to the valid range for imshow with RGB data ([0..1] for floats or [0..255] for integers).\n"
     ]
    },
    {
     "data": {
      "image/png": "[encoded data removed]",
      "text/plain": [
       "<Figure size 720x720 with 16 Axes>"
      ]
     },
     "metadata": {
      "needs_background": "light"
     },
     "output_type": "display_data"
    }
   ],
   "source": [
    "import matplotlib.pyplot as plt\n",
    "from mpl_toolkits.axes_grid1 import ImageGrid\n",
    "import numpy as np\n",
    "import random\n",
    "\n",
    "im1 =preprocessor(fnames[0][0])\n",
    "im2 =preprocessor(fnames[0][1])\n",
    "im3 =preprocessor(fnames[0][2])\n",
    "im4 =preprocessor(fnames[0][2])\n",
    "im5 =preprocessor(fnames[1][0])\n",
    "im6 =preprocessor(fnames[1][1])\n",
    "im7 =preprocessor(fnames[2][0])\n",
    "im8 =preprocessor(fnames[2][1])\n",
    "\n",
    "fig = plt.figure(figsize=(10., 10.))\n",
    "grid = ImageGrid(fig, 111,  # similar to subplot(111)\n",
    "                 nrows_ncols=(2, 4),\n",
    "                 axes_pad=0.25,  # pad between axes in inch.\n",
    "                 )\n",
    "\n",
    "for ax, im in zip(grid, [im1, im2, im3, im4, im5, im6, im7, im8]):\n",
    "    # Iterating over the grid returns the Axes.\n",
    "    ax.imshow(im)\n",
    "plt.show()"
   ]
  },
  {
   "cell_type": "markdown",
   "metadata": {
    "id": "msbTLRx8Ya3Z"
   },
   "source": [
    "# Discussion of Dataset\n",
    "\n",
    "**Discuss the dataset in general terms and describe why building a predictive model using this data might be practically useful.  Who could benefit from a model like this? Explain**\n",
    "\n",
    "The Dataset is comprised of thousands of chest X-Ray images that fall into 3 categories: COVID-19 positive, Normal, and Viral Pneumonia. \n",
    "\n",
    "The reason this dataset is useful to build predictive models from is that it could be used by epidemiologists and doctors for detecting the presence of viral illnesses such as COVID and Pneumonia, especially when they do not have access to testing kits. X-Rays are widely used medical techology and available to medical professionals world-wide, and in the event of an outbreak, they could simply take X-rays of patients lungs and use the model to help make a determination of whether or not a patient has a particular illness. This could be extremely useful in remote areas or areas without access to other types of advanced testing equipment, and help medical professionals potentially identify an outbreak sooner and take quick action to prevent the spread of COVID in particular"
   ]
  },
  {
   "cell_type": "code",
   "execution_count": null,
   "metadata": {
    "colab": {
     "base_uri": "https://localhost:8080/"
    },
    "id": "TImfyLlxy1Vx",
    "outputId": "4d28ce55-c279-40f0-cf5e-3d5556c12af8"
   },
   "outputs": [
    {
     "data": {
      "text/plain": [
       "((1291, 192, 192, 3), (1291, 3))"
      ]
     },
     "execution_count": 21,
     "metadata": {},
     "output_type": "execute_result"
    }
   ],
   "source": [
    "# ======Train test split resized images (Hackathon Note!! Use same train test split to be able to submit predictions to leaderboard!)=======================================\n",
    "from sklearn.model_selection import train_test_split\n",
    "\n",
    "X_train, X_test, y_train, y_test = train_test_split(X, y, stratify = y, test_size = 0.32, random_state = 1987)\n",
    "\n",
    "\n",
    "X_test.shape, y_test.shape"
   ]
  },
  {
   "cell_type": "code",
   "execution_count": null,
   "metadata": {
    "id": "_NdLXfABhpTC"
   },
   "outputs": [],
   "source": [
    "#Clear objects from memory\n",
    "del(X)\n",
    "del(y)\n",
    "del(preprocessed_image_data)"
   ]
  },
  {
   "cell_type": "code",
   "execution_count": null,
   "metadata": {
    "id": "79LOCIg-hOVg"
   },
   "outputs": [],
   "source": [
    "#Save data to be able to reload quickly if memory crashes or if you run Runtime>Restart Runtime\n",
    "import pickle\n",
    "\n",
    "# Open a file and use dump()\n",
    "with open('X_train.pkl', 'wb') as file:\n",
    "    # A new file will be created\n",
    "    pickle.dump(X_train, file)\n",
    "\n",
    "#Save data\n",
    "import pickle\n",
    "\n",
    "# Open a file and use dump()\n",
    "with open('X_test.pkl', 'wb') as file:\n",
    "    # A new file will be created\n",
    "    pickle.dump(X_test, file)\n",
    "\n",
    "#Save data\n",
    "import pickle\n",
    "\n",
    "# Open a file and use dump()\n",
    "with open('y_train.pkl', 'wb') as file:\n",
    "    # A new file will be created\n",
    "    pickle.dump(y_train, file)\n",
    "\n",
    "\n",
    "# Open a file and use dump()\n",
    "with open('y_test.pkl', 'wb') as file:\n",
    "    # A new file will be created\n",
    "    pickle.dump(y_test, file)"
   ]
  },
  {
   "cell_type": "code",
   "execution_count": null,
   "metadata": {
    "id": "xGsNpBT7Aaag"
   },
   "outputs": [],
   "source": [
    "from google.colab import files\n",
    "\n",
    "with open('X_train', 'w') as f:\n",
    "  f.write('X_train')\n",
    "\n",
    "files.download('X_train.pkl')"
   ]
  },
  {
   "cell_type": "code",
   "execution_count": 41,
   "metadata": {
    "colab": {
     "base_uri": "https://localhost:8080/"
    },
    "id": "-X3b6ulSyvZC",
    "outputId": "48467ed7-856c-4695-b86a-12b2ef31a887"
   },
   "outputs": [
    {
     "data": {
      "text/plain": [
       "(1291, 192, 192, 3)"
      ]
     },
     "execution_count": 41,
     "metadata": {},
     "output_type": "execute_result"
    }
   ],
   "source": [
    "X_test.shape"
   ]
  },
  {
   "cell_type": "markdown",
   "metadata": {
    "id": "NsztfQamEhL5"
   },
   "source": [
    "# Model 1 (Sequential)"
   ]
  },
  {
   "cell_type": "code",
   "execution_count": null,
   "metadata": {
    "colab": {
     "base_uri": "https://localhost:8080/"
    },
    "id": "9LrTcis-y4Sy",
    "outputId": "628cc502-4d74-498f-e81f-96a50eefee0f"
   },
   "outputs": [
    {
     "name": "stdout",
     "output_type": "stream",
     "text": [
      "Epoch 1/5\n",
      "69/69 [==============================] - 643s 9s/step - loss: 0.8849 - accuracy: 0.5584 - val_loss: 0.6809 - val_accuracy: 0.7067\n",
      "Epoch 2/5\n",
      "69/69 [==============================] - 642s 9s/step - loss: 0.6629 - accuracy: 0.6852 - val_loss: 0.5727 - val_accuracy: 0.7577\n",
      "Epoch 3/5\n",
      "69/69 [==============================] - 639s 9s/step - loss: 0.4864 - accuracy: 0.7810 - val_loss: 0.4103 - val_accuracy: 0.8288\n",
      "Epoch 4/5\n",
      "69/69 [==============================] - 640s 9s/step - loss: 0.3801 - accuracy: 0.8504 - val_loss: 0.3562 - val_accuracy: 0.8780\n",
      "Epoch 5/5\n",
      "69/69 [==============================] - 640s 9s/step - loss: 0.3087 - accuracy: 0.8759 - val_loss: 0.3260 - val_accuracy: 0.8761\n"
     ]
    }
   ],
   "source": [
    "import tensorflow as tf\n",
    "\n",
    "with tf.device('/device:GPU:0'): #\"/GPU:0\": Short-hand notation for the first GPU of your machine that is visible to TensorFlow.\n",
    "\n",
    "  model_1 = tf.keras.Sequential([\n",
    "    # input: images of size Sample size, height, width, channels 1x192x192x3 pixels (the three stands for RGB channels)    \n",
    "    tf.keras.layers.Conv2D(kernel_size=3, filters=32, padding='same', activation='relu', input_shape=(192, 192, 3)),\n",
    "    tf.keras.layers.Conv2D(kernel_size=1, filters=32, padding='same', activation='relu'),\n",
    "    tf.keras.layers.MaxPooling2D(pool_size=2),\n",
    "    tf.keras.layers.Conv2D(kernel_size=3, filters=64, padding='same', activation='relu'),\n",
    "    tf.keras.layers.Conv2D(kernel_size=1, filters=64, padding='same', activation='relu'),\n",
    "    tf.keras.layers.MaxPooling2D(pool_size=2),\n",
    "    tf.keras.layers.Conv2D(kernel_size=3, filters=128, padding='same', activation='relu'),\n",
    "    tf.keras.layers.Conv2D(kernel_size=1, filters=128, padding='same', activation='relu'),\n",
    "    tf.keras.layers.MaxPooling2D(pool_size=2),\n",
    "    tf.keras.layers.Conv2D(kernel_size=3, filters=512, padding='same', activation='relu'),\n",
    "    tf.keras.layers.Conv2D(kernel_size=1, filters=512, padding='same', activation='relu'),\n",
    "    tf.keras.layers.MaxPooling2D(pool_size=2),\n",
    "    tf.keras.layers.Conv2D(kernel_size=3, filters=512, padding='same', activation='relu'),\n",
    "    tf.keras.layers.Conv2D(kernel_size=1, filters=512, padding='same', activation='relu'),\n",
    "    tf.keras.layers.Flatten(),\n",
    "    # classifying into 5 categories\n",
    "    tf.keras.layers.Dense(3, activation='softmax')\n",
    "  ])\n",
    "  #from tensorflow.python.keras.callbacks import ReduceLROnPlateau\n",
    "  #red_lr= ReduceLROnPlateau(monitor='val_acc',patience=3,verbose=1,factor=0.1) # dividing lr by 10 when val_accuracy fails to improve after 3 epochs\n",
    "\n",
    "  model_1.compile(\n",
    "    optimizer=\"adam\", # to use callback set lr arg such as Adam(lr=0.001) instead\n",
    "    loss= 'categorical_crossentropy',\n",
    "    metrics=['accuracy'])\n",
    "  \n",
    "  # Fitting the CNN to the Training set\n",
    "  model_1.fit(X_train, y_train, \n",
    "                    epochs = 5, verbose=1,validation_split=.2) #callbacks=[red_lr]) for callback that automatically adjusts lr"
   ]
  },
  {
   "cell_type": "code",
   "execution_count": null,
   "metadata": {
    "id": "kZPdXhSgii5W"
   },
   "outputs": [],
   "source": [
    "model_1.save(\"model_1.h5\", save_format=\"h5\")"
   ]
  },
  {
   "cell_type": "code",
   "execution_count": null,
   "metadata": {
    "id": "xWM9TMT01aC4"
   },
   "outputs": [],
   "source": [
    "# Begin to submit models to image classification leaderboard\n",
    "! pip install aimodelshare --upgrade\n",
    "# Restart session Runtime > Restart runtime"
   ]
  },
  {
   "cell_type": "code",
   "execution_count": null,
   "metadata": {
    "id": "5wuQYRQ9jLTz"
   },
   "outputs": [],
   "source": [
    "# Reload model and data\n",
    "import tensorflow as tf\n",
    "model_1 = tf.keras.models.load_model('model_1.h5',compile=False)\n",
    "model_1.compile(\n",
    "    optimizer=\"adam\", # to use callback set lr arg such as Adam(lr=0.001) instead\n",
    "    loss= 'categorical_crossentropy',\n",
    "    metrics=['accuracy'])\n",
    "model_1.summary()"
   ]
  },
  {
   "cell_type": "code",
   "execution_count": null,
   "metadata": {
    "colab": {
     "base_uri": "https://localhost:8080/"
    },
    "id": "uu5RBFunkHwj",
    "outputId": "2c5aa327-368a-4914-ef91-25e6f946030f"
   },
   "outputs": [
    {
     "name": "stdout",
     "output_type": "stream",
     "text": [
      "Your preprocessor is now saved to 'preprocessor.zip'\n"
     ]
    }
   ],
   "source": [
    "# Save preprocessor function (may need to reload function in cell above)\n",
    "import aimodelshare as ai\n",
    "ai.export_preprocessor(preprocessor,\"\")"
   ]
  },
  {
   "cell_type": "code",
   "execution_count": null,
   "metadata": {
    "colab": {
     "base_uri": "https://localhost:8080/"
    },
    "id": "0LBH84uXkPT7",
    "outputId": "e031be29-3d98-4b0c-c732-d270b8976af8"
   },
   "outputs": [
    {
     "name": "stdout",
     "output_type": "stream",
     "text": [
      "WARNING: AutoGraph could not transform <function trace_model_call.<locals>._wrapped_model at 0x7f16245a93a0> and will run it as-is.\n",
      "Cause: Unable to locate the source code of <function trace_model_call.<locals>._wrapped_model at 0x7f16245a93a0>. Note that functions defined in certain environments, like the interactive Python shell, do not expose their source code. If that is the case, you should define them in a .py source file. If you are certain the code is graph-compatible, wrap the call using @tf.autograph.experimental.do_not_convert. Original error: could not get source code\n",
      "To silence this warning, decorate the function with @tf.autograph.experimental.do_not_convert\n"
     ]
    }
   ],
   "source": [
    "# Save tf.keras model (or any tensorflow model) to local ONNX file\n",
    "from aimodelshare.aimsonnx import model_to_onnx\n",
    "\n",
    "onnx_model = model_to_onnx(model_1, framework='keras',\n",
    "                          transfer_learning=False,\n",
    "                          deep_learning=True)\n",
    "\n",
    "with open(\"model.onnx\", \"wb\") as f:\n",
    "    f.write(onnx_model.SerializeToString())"
   ]
  },
  {
   "cell_type": "code",
   "execution_count": null,
   "metadata": {
    "colab": {
     "base_uri": "https://localhost:8080/"
    },
    "id": "koDtqKi6jacf",
    "outputId": "8a44357b-32a1-4d99-f9a1-2c5581143092"
   },
   "outputs": [
    {
     "name": "stdout",
     "output_type": "stream",
     "text": [
      "WARNING: AutoGraph could not transform <function Model.make_predict_function.<locals>.predict_function at 0x7f15b88745e0> and will run it as-is.\n",
      "Please report this to the TensorFlow team. When filing the bug, set the verbosity to 10 (on Linux, `export AUTOGRAPH_VERBOSITY=10`) and attach the full output.\n",
      "Cause: closure mismatch, requested ('self', 'step_function'), but source function had ()\n",
      "To silence this warning, decorate the function with @tf.autograph.experimental.do_not_convert\n",
      "41/41 [==============================] - 3s 47ms/step\n"
     ]
    }
   ],
   "source": [
    "#Use X_test data to generate model predictions and make leaderboard submission\n",
    "\n",
    "#Generate and save predictions\n",
    "\n",
    "#Load preprocessed data\n",
    "#If you run out of Colab memory restart runtime, reload data and try again\n",
    "import pickle\n",
    "  \n",
    "# Open the file in binary mode\n",
    "with open('X_test.pkl', 'rb') as file:\n",
    "    # Call load method to deserialze\n",
    "    X_test = pickle.load(file)\n",
    "\n",
    "# Open the file in binary mode\n",
    "with open('y_train.pkl', 'rb') as file:\n",
    "    # Call load method to deserialze\n",
    "    y_train = pickle.load(file)\n",
    "    \n",
    "prediction_column_index=model_1.predict(X_test).argmax(axis=1)\n",
    "\n",
    "# extract correct prediction labels \n",
    "prediction_labels = [y_train.columns[i] for i in prediction_column_index]"
   ]
  },
  {
   "cell_type": "code",
   "execution_count": null,
   "metadata": {
    "colab": {
     "base_uri": "https://localhost:8080/"
    },
    "id": "mem_vtWdkEuN",
    "outputId": "8fd4e4f8-8443-46e3-f3f2-83bdb2e56d6b"
   },
   "outputs": [
    {
     "name": "stdout",
     "output_type": "stream",
     "text": [
      "AI Modelshare Username:··········\n",
      "AI Modelshare Password:··········\n",
      "AI Model Share login credentials set successfully.\n"
     ]
    }
   ],
   "source": [
    "apiurl='https://bb4mkgq8sb.execute-api.us-east-2.amazonaws.com/prod/m'\n",
    "\n",
    "import aimodelshare as ai\n",
    "experiment= ai.Experiment(apiurl)\n",
    "\n",
    "from aimodelshare.aws import set_credentials\n",
    "set_credentials(apiurl=apiurl)"
   ]
  },
  {
   "cell_type": "code",
   "execution_count": null,
   "metadata": {
    "id": "0De2jogVmg9N"
   },
   "outputs": [],
   "source": [
    "# Submit Model 1 to Competition Leaderboard\n",
    "experiment.submit_model(model_filepath = \"model.onnx\",\n",
    "                                 preprocessor_filepath=\"preprocessor.zip\",\n",
    "                                 prediction_submission=prediction_labels)"
   ]
  },
  {
   "cell_type": "code",
   "execution_count": null,
   "metadata": {
    "id": "KboaNn6OtVeQ"
   },
   "outputs": [],
   "source": [
    "#Submit Model with predictions only (if you cannot save an onnx file): \n",
    "\n",
    "#-- Generate predicted y values (Model 1)\n",
    "#Note: Keras predict returns the predicted column index location for classification models\n",
    "prediction_column_index=model_1.predict(X_test).argmax(axis=1)\n",
    "\n",
    "# extract correct prediction labels \n",
    "prediction_labels = [y_train.columns[i] for i in prediction_column_index]\n",
    "\n",
    "# Submit Model 1 to Competition Leaderboard\n",
    "experiment.submit_model(model_filepath = None,\n",
    "                                 preprocessor_filepath=None,\n",
    "                                 prediction_submission=prediction_labels)"
   ]
  },
  {
   "cell_type": "markdown",
   "metadata": {
    "id": "AFIYQRdTDinu"
   },
   "source": [
    "# Model 2 - VGG16 (Transfer Learning)"
   ]
  },
  {
   "cell_type": "code",
   "execution_count": null,
   "metadata": {
    "id": "FAT12z76Moxq"
   },
   "outputs": [],
   "source": [
    "from tensorflow.keras.applications import VGG16\n",
    "from tensorflow.keras.models import Sequential,Model\n",
    "from tensorflow.keras.preprocessing import image\n",
    "from tensorflow.keras.models import Model\n",
    "from tensorflow.keras.layers import Dense, GlobalAveragePooling2D, Flatten\n",
    "from tensorflow.keras import backend as K\n",
    "\n",
    "base_model = VGG16(input_shape=(192,192,3),\n",
    "                                               include_top=False, # Drops fully connected layers and output layer structure from pretrained model.\n",
    "                                               weights='imagenet') # Using weight from model trained to 1000 categories of imagenet competition\n",
    "base_model.summary()"
   ]
  },
  {
   "cell_type": "code",
   "execution_count": null,
   "metadata": {
    "colab": {
     "base_uri": "https://localhost:8080/"
    },
    "id": "zFr9wIRtc2CW",
    "outputId": "c6ba8989-cab1-45aa-dc66-7a5a19a22f18"
   },
   "outputs": [
    {
     "name": "stdout",
     "output_type": "stream",
     "text": [
      "Model: \"vgg16\"\n",
      "_________________________________________________________________\n",
      " Layer (type)                Output Shape              Param #   \n",
      "=================================================================\n",
      " input_1 (InputLayer)        [(None, 192, 192, 3)]     0         \n",
      "                                                                 \n",
      " block1_conv1 (Conv2D)       (None, 192, 192, 64)      1792      \n",
      "                                                                 \n",
      " block1_conv2 (Conv2D)       (None, 192, 192, 64)      36928     \n",
      "                                                                 \n",
      " block1_pool (MaxPooling2D)  (None, 96, 96, 64)        0         \n",
      "                                                                 \n",
      " block2_conv1 (Conv2D)       (None, 96, 96, 128)       73856     \n",
      "                                                                 \n",
      " block2_conv2 (Conv2D)       (None, 96, 96, 128)       147584    \n",
      "                                                                 \n",
      " block2_pool (MaxPooling2D)  (None, 48, 48, 128)       0         \n",
      "                                                                 \n",
      " block3_conv1 (Conv2D)       (None, 48, 48, 256)       295168    \n",
      "                                                                 \n",
      " block3_conv2 (Conv2D)       (None, 48, 48, 256)       590080    \n",
      "                                                                 \n",
      " block3_conv3 (Conv2D)       (None, 48, 48, 256)       590080    \n",
      "                                                                 \n",
      " block3_pool (MaxPooling2D)  (None, 24, 24, 256)       0         \n",
      "                                                                 \n",
      " block4_conv1 (Conv2D)       (None, 24, 24, 512)       1180160   \n",
      "                                                                 \n",
      " block4_conv2 (Conv2D)       (None, 24, 24, 512)       2359808   \n",
      "                                                                 \n",
      " block4_conv3 (Conv2D)       (None, 24, 24, 512)       2359808   \n",
      "                                                                 \n",
      " block4_pool (MaxPooling2D)  (None, 12, 12, 512)       0         \n",
      "                                                                 \n",
      " block5_conv1 (Conv2D)       (None, 12, 12, 512)       2359808   \n",
      "                                                                 \n",
      " block5_conv2 (Conv2D)       (None, 12, 12, 512)       2359808   \n",
      "                                                                 \n",
      " block5_conv3 (Conv2D)       (None, 12, 12, 512)       2359808   \n",
      "                                                                 \n",
      " block5_pool (MaxPooling2D)  (None, 6, 6, 512)         0         \n",
      "                                                                 \n",
      "=================================================================\n",
      "Total params: 14,714,688\n",
      "Trainable params: 0\n",
      "Non-trainable params: 14,714,688\n",
      "_________________________________________________________________\n"
     ]
    }
   ],
   "source": [
    "# Next step: Freeze the weights of the VGG16 model so that they are not trained when you fit the model\n",
    "# setting the entire model's trainable flag to False will freeze all the layers.\n",
    "\n",
    "base_model.trainable = False\n",
    "\n",
    "base_model.summary() "
   ]
  },
  {
   "cell_type": "code",
   "execution_count": null,
   "metadata": {
    "id": "Xsxlz1CalGlf"
   },
   "outputs": [],
   "source": [
    "\n",
    "# Getting output tensor of the last VGG layer that we want to include\n",
    "# base_model.layers[-1].output sets input for next model layer\n",
    "\n",
    "# example of tending the vgg16 model\n",
    "from tensorflow.keras.applications.vgg16 import VGG16\n",
    "from tensorflow.keras.models import Model\n",
    "from tensorflow.keras.layers import Dense\n",
    "from tensorflow.keras.layers import Flatten\n",
    "\n",
    "# Create new classifier layers (and plug into output of last layer from above model using \"model.layers[-1].output\")\n",
    "flat1 = Flatten()(base_model.layers[-1].output)\n",
    "class1 = Dense(32, activation='relu')(flat1)\n",
    "output = Dense(3, activation='softmax')(class1)\n",
    "\n",
    "# define new model\n",
    "model_2 = Model(inputs=base_model.inputs, outputs=output) #base_model.inputs imports the vgg16 model defined in base_model\n",
    "\n",
    "# summarize\n",
    "model_2.summary()"
   ]
  },
  {
   "cell_type": "code",
   "execution_count": null,
   "metadata": {
    "colab": {
     "base_uri": "https://localhost:8080/"
    },
    "id": "LsyTJuPne-BR",
    "outputId": "2dac1ecb-9e46-469d-be00-d3e58eb58d79"
   },
   "outputs": [
    {
     "name": "stdout",
     "output_type": "stream",
     "text": [
      "Epoch 1/3\n",
      "2187/2192 [============================>.] - ETA: 0s - loss: 1.1123 - acc: 0.3301\n",
      "Epoch 00001: val_acc improved from -inf to 0.34062, saving model to best_model.h5\n",
      "2192/2192 [==============================] - 34s 11ms/step - loss: 1.1123 - acc: 0.3298 - val_loss: 1.1007 - val_acc: 0.3406 - lr: 0.0100\n",
      "Epoch 2/3\n",
      "2189/2192 [============================>.] - ETA: 0s - loss: 1.0993 - acc: 0.3554\n",
      "Epoch 00002: val_acc did not improve from 0.34062\n",
      "2192/2192 [==============================] - 24s 11ms/step - loss: 1.0992 - acc: 0.3554 - val_loss: 1.1033 - val_acc: 0.3206 - lr: 0.0100\n",
      "Epoch 3/3\n",
      "2188/2192 [============================>.] - ETA: 0s - loss: 1.1008 - acc: 0.3314\n",
      "Epoch 00003: val_acc did not improve from 0.34062\n",
      "\n",
      "Epoch 00003: ReduceLROnPlateau reducing learning rate to 0.004999999888241291.\n",
      "2192/2192 [==============================] - 23s 10ms/step - loss: 1.1006 - acc: 0.3326 - val_loss: 1.1014 - val_acc: 0.3388 - lr: 0.0100\n"
     ]
    }
   ],
   "source": [
    "# Fit VGG16 model with frozen imagent weights and new input/output layer shapes (outputs have trainable parameters)\n",
    "import tensorflow as tf\n",
    "with tf.device('/device:GPU:0'): #\"/GPU:0\": Short-hand notation for the first GPU of your machine that is visible to TensorFlow.\n",
    "  from tensorflow.python.keras.callbacks import ReduceLROnPlateau\n",
    "  from tensorflow.python.keras.callbacks import ModelCheckpoint\n",
    "  \n",
    "  mc = ModelCheckpoint('best_model.h5', monitor='val_acc',mode='max', verbose=1, save_best_only=True) # evaluating val_acc maximization\n",
    "  red_lr= ReduceLROnPlateau(monitor='val_acc',patience=2,verbose=1,factor=0.5, min_lr=0.001) # dividing lr by 2 when val_accuracy fails to improve after 2 epochs\n",
    "\n",
    "  model_2.compile(loss='categorical_crossentropy', optimizer='sgd', metrics=['acc']) \n",
    "\n",
    "  model_2.fit(X_train, y_train,batch_size=1,\n",
    "          epochs = 3, verbose=1,validation_split=.2,callbacks=[mc,red_lr])"
   ]
  },
  {
   "cell_type": "code",
   "execution_count": null,
   "metadata": {
    "id": "zQ4WCdbYioPW"
   },
   "outputs": [],
   "source": [
    "model_2.save(\"model_2.h5\", save_format=\"h5\")"
   ]
  },
  {
   "cell_type": "code",
   "execution_count": null,
   "metadata": {
    "colab": {
     "base_uri": "https://localhost:8080/"
    },
    "id": "1Ji5SmqRel29",
    "outputId": "7b633a45-0c04-4d96-8464-b5e5c18f3cbd"
   },
   "outputs": [
    {
     "name": "stdout",
     "output_type": "stream",
     "text": [
      "Your preprocessor is now saved to 'preprocessor.zip'\n"
     ]
    }
   ],
   "source": [
    "# Save preprocessor function (may need to reload function in cell above)\n",
    "import aimodelshare as ai\n",
    "ai.export_preprocessor(preprocessor,\"\")"
   ]
  },
  {
   "cell_type": "code",
   "execution_count": null,
   "metadata": {
    "id": "e8_KLV0yel2-"
   },
   "outputs": [],
   "source": [
    "# Save tf.keras model (or any tensorflow model) to local ONNX file\n",
    "from aimodelshare.aimsonnx import model_to_onnx\n",
    "\n",
    "onnx_model = model_to_onnx(model_2, framework='keras',\n",
    "                          transfer_learning=True,\n",
    "                          deep_learning=True)\n",
    "\n",
    "with open(\"model.onnx\", \"wb\") as f:\n",
    "    f.write(onnx_model.SerializeToString())"
   ]
  },
  {
   "cell_type": "code",
   "execution_count": null,
   "metadata": {
    "colab": {
     "base_uri": "https://localhost:8080/"
    },
    "id": "KRwgUtsnel2-",
    "outputId": "8a84fc2f-9e5e-420c-f3f2-a5d375d04b4e"
   },
   "outputs": [
    {
     "name": "stdout",
     "output_type": "stream",
     "text": [
      "WARNING: AutoGraph could not transform <function Model.make_predict_function.<locals>.predict_function at 0x7fd0110c63a0> and will run it as-is.\n",
      "Please report this to the TensorFlow team. When filing the bug, set the verbosity to 10 (on Linux, `export AUTOGRAPH_VERBOSITY=10`) and attach the full output.\n",
      "Cause: closure mismatch, requested ('self', 'step_function'), but source function had ()\n",
      "To silence this warning, decorate the function with @tf.autograph.experimental.do_not_convert\n",
      "41/41 [==============================] - 9s 138ms/step\n"
     ]
    }
   ],
   "source": [
    "#Use X_test data to generate model predictions and make leaderboard submission\n",
    "\n",
    "#Generate and save predictions\n",
    "\n",
    "#Load preprocessed data\n",
    "#If you run out of Colab memory restart runtime, reload data and try again\n",
    "import pickle\n",
    "  \n",
    "# Open the file in binary mode\n",
    "with open('X_test.pkl', 'rb') as file:\n",
    "    # Call load method to deserialze\n",
    "    X_test = pickle.load(file)\n",
    "\n",
    "# Open the file in binary mode\n",
    "with open('y_train.pkl', 'rb') as file:\n",
    "    # Call load method to deserialze\n",
    "    y_train = pickle.load(file)\n",
    "    \n",
    "prediction_column_index=model_2.predict(X_test).argmax(axis=1)\n",
    "\n",
    "# extract correct prediction labels \n",
    "prediction_labels = [y_train.columns[i] for i in prediction_column_index]"
   ]
  },
  {
   "cell_type": "code",
   "execution_count": null,
   "metadata": {
    "colab": {
     "base_uri": "https://localhost:8080/"
    },
    "id": "DT8JSfTsel2-",
    "outputId": "1f454023-93f7-4287-baf1-32eb768633d1"
   },
   "outputs": [
    {
     "name": "stdout",
     "output_type": "stream",
     "text": [
      "AI Modelshare Username:··········\n",
      "AI Modelshare Password:··········\n",
      "AI Model Share login credentials set successfully.\n"
     ]
    }
   ],
   "source": [
    "apiurl='https://bb4mkgq8sb.execute-api.us-east-2.amazonaws.com/prod/m'\n",
    "\n",
    "import aimodelshare as ai\n",
    "experiment= ai.Experiment(apiurl)\n",
    "\n",
    "from aimodelshare.aws import set_credentials\n",
    "set_credentials(apiurl=apiurl)"
   ]
  },
  {
   "cell_type": "code",
   "execution_count": null,
   "metadata": {
    "id": "SJG8-Z1tel2-"
   },
   "outputs": [],
   "source": [
    "experiment.submit_model(model_filepath = \"model.onnx\",\n",
    "                                 preprocessor_filepath=\"preprocessor.zip\",\n",
    "                                 prediction_submission=prediction_labels)"
   ]
  },
  {
   "cell_type": "markdown",
   "metadata": {
    "id": "1mRp7Vgen3e2"
   },
   "source": [
    "# Model 3 - Sequential"
   ]
  },
  {
   "cell_type": "code",
   "execution_count": null,
   "metadata": {
    "colab": {
     "base_uri": "https://localhost:8080/"
    },
    "id": "S7eJvaA6nzxv",
    "outputId": "8e92898a-84be-4305-8a0f-e90b0dbab189"
   },
   "outputs": [
    {
     "name": "stdout",
     "output_type": "stream",
     "text": [
      "Epoch 1/5\n",
      "69/69 [==============================] - 19s 148ms/step - loss: 1.0496 - accuracy: 0.4156 - val_loss: 1.0983 - val_accuracy: 0.3388\n",
      "Epoch 2/5\n",
      "69/69 [==============================] - 8s 110ms/step - loss: 0.8270 - accuracy: 0.6036 - val_loss: 0.6002 - val_accuracy: 0.7341\n",
      "Epoch 3/5\n",
      "69/69 [==============================] - 8s 111ms/step - loss: 0.6149 - accuracy: 0.7208 - val_loss: 0.6073 - val_accuracy: 0.7195\n",
      "Epoch 4/5\n",
      "69/69 [==============================] - 7s 108ms/step - loss: 0.5657 - accuracy: 0.7336 - val_loss: 0.5415 - val_accuracy: 0.7614\n",
      "Epoch 5/5\n",
      "69/69 [==============================] - 8s 109ms/step - loss: 0.5037 - accuracy: 0.7632 - val_loss: 0.4758 - val_accuracy: 0.7887\n"
     ]
    }
   ],
   "source": [
    "import tensorflow as tf\n",
    "\n",
    "with tf.device('/device:GPU:0'): #\"/GPU:0\": Short-hand notation for the first GPU of your machine that is visible to TensorFlow.\n",
    "\n",
    "  model_1 = tf.keras.Sequential([\n",
    "    # input: images of size Sample size, height, width, channels 1x192x192x3 pixels (the three stands for RGB channels)    \n",
    "    tf.keras.layers.Conv2D(kernel_size=3, filters=32, padding='same', activation='relu', input_shape=(192, 192, 3)),\n",
    "    tf.keras.layers.Conv2D(kernel_size=1, filters=32, padding='same', activation='relu'),\n",
    "    tf.keras.layers.MaxPooling2D(pool_size=2),\n",
    "    tf.keras.layers.Conv2D(kernel_size=3, filters=64, padding='same', activation='relu'),\n",
    "    tf.keras.layers.Conv2D(kernel_size=1, filters=64, padding='same', activation='relu'),\n",
    "    tf.keras.layers.MaxPooling2D(pool_size=2),\n",
    "    tf.keras.layers.Conv2D(kernel_size=3, filters=128, padding='same', activation='relu'),\n",
    "    tf.keras.layers.Conv2D(kernel_size=1, filters=128, padding='same', activation='relu'),\n",
    "    tf.keras.layers.Conv2D(kernel_size=1, filters=128, padding='same', activation='relu'),\n",
    "    tf.keras.layers.MaxPooling2D(pool_size=2),\n",
    "    tf.keras.layers.Conv2D(kernel_size=3, filters=512, padding='same', activation='relu'),\n",
    "    tf.keras.layers.Conv2D(kernel_size=1, filters=512, padding='same', activation='relu'),\n",
    "    tf.keras.layers.Conv2D(kernel_size=1, filters=512, padding='same', activation='relu'),\n",
    "    tf.keras.layers.MaxPooling2D(pool_size=2),\n",
    "    tf.keras.layers.Conv2D(kernel_size=3, filters=512, padding='same', activation='relu'),\n",
    "    tf.keras.layers.Conv2D(kernel_size=1, filters=512, padding='same', activation='relu'),\n",
    "    tf.keras.layers.Conv2D(kernel_size=1, filters=512, padding='same', activation='relu'),\n",
    "    tf.keras.layers.Flatten(),\n",
    "    tf.keras.layers.Dense(3, activation='softmax')\n",
    "  ])\n",
    "  #from tensorflow.python.keras.callbacks import ReduceLROnPlateau\n",
    "  #red_lr= ReduceLROnPlateau(monitor='val_acc',patience=3,verbose=1,factor=0.1) # dividing lr by 10 when val_accuracy fails to improve after 3 epochs\n",
    "\n",
    "  model_3.compile(\n",
    "    optimizer=\"adam\", # to use callback set lr arg such as Adam(lr=0.001) instead\n",
    "    loss= 'categorical_crossentropy',\n",
    "    metrics=['accuracy'])\n",
    "  \n",
    "  # Fitting the CNN to the Training set\n",
    "  model_3.fit(X_train, y_train, \n",
    "                    epochs = 5, verbose=1,validation_split=.2) #callbacks=[red_lr]) for callback that automatically adjusts lr"
   ]
  },
  {
   "cell_type": "code",
   "execution_count": null,
   "metadata": {
    "id": "f4zuL8d3nzxx"
   },
   "outputs": [],
   "source": [
    "model_3.save(\"model_3.h5\", save_format=\"h5\")"
   ]
  },
  {
   "cell_type": "code",
   "execution_count": null,
   "metadata": {
    "colab": {
     "base_uri": "https://localhost:8080/"
    },
    "id": "Yt-hZYxYnzxy",
    "outputId": "4afa43af-22ba-4272-e84c-ed1763969742"
   },
   "outputs": [
    {
     "name": "stdout",
     "output_type": "stream",
     "text": [
      "Model: \"sequential\"\n",
      "_________________________________________________________________\n",
      " Layer (type)                Output Shape              Param #   \n",
      "=================================================================\n",
      " conv2d (Conv2D)             (None, 192, 192, 32)      896       \n",
      "                                                                 \n",
      " conv2d_1 (Conv2D)           (None, 192, 192, 32)      1056      \n",
      "                                                                 \n",
      " max_pooling2d (MaxPooling2D  (None, 96, 96, 32)       0         \n",
      " )                                                               \n",
      "                                                                 \n",
      " conv2d_2 (Conv2D)           (None, 96, 96, 64)        18496     \n",
      "                                                                 \n",
      " conv2d_3 (Conv2D)           (None, 96, 96, 64)        4160      \n",
      "                                                                 \n",
      " max_pooling2d_1 (MaxPooling  (None, 48, 48, 64)       0         \n",
      " 2D)                                                             \n",
      "                                                                 \n",
      " conv2d_4 (Conv2D)           (None, 48, 48, 128)       73856     \n",
      "                                                                 \n",
      " conv2d_5 (Conv2D)           (None, 48, 48, 128)       16512     \n",
      "                                                                 \n",
      " conv2d_6 (Conv2D)           (None, 48, 48, 128)       16512     \n",
      "                                                                 \n",
      " max_pooling2d_2 (MaxPooling  (None, 24, 24, 128)      0         \n",
      " 2D)                                                             \n",
      "                                                                 \n",
      " conv2d_7 (Conv2D)           (None, 24, 24, 512)       590336    \n",
      "                                                                 \n",
      " conv2d_8 (Conv2D)           (None, 24, 24, 512)       262656    \n",
      "                                                                 \n",
      " conv2d_9 (Conv2D)           (None, 24, 24, 512)       262656    \n",
      "                                                                 \n",
      " max_pooling2d_3 (MaxPooling  (None, 12, 12, 512)      0         \n",
      " 2D)                                                             \n",
      "                                                                 \n",
      " conv2d_10 (Conv2D)          (None, 12, 12, 512)       2359808   \n",
      "                                                                 \n",
      " conv2d_11 (Conv2D)          (None, 12, 12, 512)       262656    \n",
      "                                                                 \n",
      " conv2d_12 (Conv2D)          (None, 12, 12, 512)       262656    \n",
      "                                                                 \n",
      " flatten_1 (Flatten)         (None, 73728)             0         \n",
      "                                                                 \n",
      " dense_2 (Dense)             (None, 3)                 221187    \n",
      "                                                                 \n",
      "=================================================================\n",
      "Total params: 4,353,443\n",
      "Trainable params: 4,353,443\n",
      "Non-trainable params: 0\n",
      "_________________________________________________________________\n"
     ]
    }
   ],
   "source": [
    "# Reload model and data\n",
    "import tensorflow as tf\n",
    "model_3 = tf.keras.models.load_model('model_3.h5',compile=False)\n",
    "model_3.compile(\n",
    "    optimizer=\"adam\", # to use callback set lr arg such as Adam(lr=0.001) instead\n",
    "    loss= 'categorical_crossentropy',\n",
    "    metrics=['accuracy'])\n",
    "model_3.summary()"
   ]
  },
  {
   "cell_type": "code",
   "execution_count": null,
   "metadata": {
    "colab": {
     "base_uri": "https://localhost:8080/"
    },
    "id": "ecIDYJfBnzxy",
    "outputId": "9e2f4d48-5985-4160-85c9-e1b3ac24b978"
   },
   "outputs": [
    {
     "name": "stdout",
     "output_type": "stream",
     "text": [
      "Your preprocessor is now saved to 'preprocessor.zip'\n"
     ]
    }
   ],
   "source": [
    "# Save preprocessor function (may need to reload function in cell above)\n",
    "import aimodelshare as ai\n",
    "ai.export_preprocessor(preprocessor,\"\")"
   ]
  },
  {
   "cell_type": "code",
   "execution_count": null,
   "metadata": {
    "colab": {
     "base_uri": "https://localhost:8080/"
    },
    "id": "XL6SpWjunzxz",
    "outputId": "48363ae2-e34f-438c-a9f5-45f28cac6f68"
   },
   "outputs": [
    {
     "name": "stdout",
     "output_type": "stream",
     "text": [
      "WARNING: AutoGraph could not transform <function trace_model_call.<locals>._wrapped_model at 0x7fd1af01a670> and will run it as-is.\n",
      "Cause: Unable to locate the source code of <function trace_model_call.<locals>._wrapped_model at 0x7fd1af01a670>. Note that functions defined in certain environments, like the interactive Python shell, do not expose their source code. If that is the case, you should define them in a .py source file. If you are certain the code is graph-compatible, wrap the call using @tf.autograph.experimental.do_not_convert. Original error: could not get source code\n",
      "To silence this warning, decorate the function with @tf.autograph.experimental.do_not_convert\n"
     ]
    }
   ],
   "source": [
    "# Save tf.keras model (or any tensorflow model) to local ONNX file\n",
    "from aimodelshare.aimsonnx import model_to_onnx\n",
    "\n",
    "onnx_model = model_to_onnx(model_3, framework='keras',\n",
    "                          transfer_learning=False,\n",
    "                          deep_learning=True)\n",
    "\n",
    "with open(\"model.onnx\", \"wb\") as f:\n",
    "    f.write(onnx_model.SerializeToString())"
   ]
  },
  {
   "cell_type": "code",
   "execution_count": null,
   "metadata": {
    "id": "5qZmEdLJnzxz"
   },
   "outputs": [],
   "source": [
    "#Use X_test data to generate model predictions and make leaderboard submission\n",
    "\n",
    "#Generate and save predictions\n",
    "\n",
    "#Load preprocessed data\n",
    "#If you run out of Colab memory restart runtime, reload data and try again\n",
    "import pickle\n",
    "  \n",
    "# Open the file in binary mode\n",
    "with open('X_test.pkl', 'rb') as file:\n",
    "    # Call load method to deserialze\n",
    "    X_test = pickle.load(file)\n",
    "\n",
    "# Open the file in binary mode\n",
    "with open('y_train.pkl', 'rb') as file:\n",
    "    # Call load method to deserialze\n",
    "    y_train = pickle.load(file)\n",
    "    \n",
    "prediction_column_index=model_3.predict(X_test).argmax(axis=1)\n",
    "\n",
    "# extract correct prediction labels \n",
    "prediction_labels = [y_train.columns[i] for i in prediction_column_index]"
   ]
  },
  {
   "cell_type": "code",
   "execution_count": null,
   "metadata": {
    "colab": {
     "base_uri": "https://localhost:8080/"
    },
    "id": "MRQpcXQFnzx0",
    "outputId": "22954363-fed0-4620-b800-71d53210ea4a"
   },
   "outputs": [
    {
     "name": "stdout",
     "output_type": "stream",
     "text": [
      "AI Modelshare Username:··········\n",
      "AI Modelshare Password:··········\n",
      "AI Model Share login credentials set successfully.\n"
     ]
    }
   ],
   "source": [
    "apiurl='https://bb4mkgq8sb.execute-api.us-east-2.amazonaws.com/prod/m'\n",
    "\n",
    "import aimodelshare as ai\n",
    "experiment= ai.Experiment(apiurl)\n",
    "\n",
    "from aimodelshare.aws import set_credentials\n",
    "set_credentials(apiurl=apiurl)"
   ]
  },
  {
   "cell_type": "code",
   "execution_count": null,
   "metadata": {
    "id": "9a8Iz3vWpdJN"
   },
   "outputs": [],
   "source": [
    "experiment.submit_model(model_filepath = \"model.onnx\",\n",
    "                                 preprocessor_filepath=\"preprocessor.zip\",\n",
    "                                 prediction_submission=prediction_labels)"
   ]
  },
  {
   "cell_type": "markdown",
   "metadata": {
    "id": "eJlYn775btbU"
   },
   "source": [
    "#First 3 Models Overview\n",
    "\n",
    "I trained and fit 3 initial models. All 3 models were Sequential models, 1 of which was a Transfer Lerning Model (VGG16) using imagenet weights. \n",
    "\n",
    "Interestingly, although the first sequential model had the least number of layers and trainable parameters, it performed the best of the 3, with an f1 score of 88.36% and precision of 88.78%. The third model used the same basic architecutre as the first model but stacked more convolutional layers before MaxPooling. However, this model failed to outperform the first model. Of the 3 models, the VGG16 transfer learning model performed very poorly, with an f1 score of 16.66% and precision of 11.1%. Part of the reason for this is likely due to the low number of epochs that were set when fitting the model. Unfortunately, resources are limited in Colab and this model seemed to suffer from such a small number of epochs among other things."
   ]
  },
  {
   "cell_type": "markdown",
   "metadata": {
    "id": "dDAUwEP90pLY"
   },
   "source": [
    "# Model 4 - Inception V3 (Transfer)"
   ]
  },
  {
   "cell_type": "code",
   "execution_count": null,
   "metadata": {
    "id": "VkAXuVNSwSTb"
   },
   "outputs": [],
   "source": [
    "from tensorflow.keras.applications import inception_v3\n",
    "from tensorflow.keras.models import Sequential,Model\n",
    "from tensorflow.keras.preprocessing import image\n",
    "from tensorflow.keras.models import Model\n",
    "from tensorflow.keras.layers import Dense, GlobalAveragePooling2D, Flatten\n",
    "from tensorflow.keras import backend as K\n",
    "\n",
    "base_model = InceptionV3(input_shape=(192,192,3),\n",
    "                                               include_top=False,\n",
    "                                               weights='imagenet') # Using weight from model trained to 1000 categories of imagenet competition\n",
    "base_model.summary()"
   ]
  },
  {
   "cell_type": "code",
   "execution_count": null,
   "metadata": {
    "id": "hGNL8S9DwSTd"
   },
   "outputs": [],
   "source": [
    "base_model.trainable = False\n",
    "\n",
    "base_model.summary() "
   ]
  },
  {
   "cell_type": "code",
   "execution_count": null,
   "metadata": {
    "colab": {
     "base_uri": "https://localhost:8080/"
    },
    "id": "aFa8iaBrwSTe",
    "outputId": "b5d68fe6-a0cc-43b3-a1d3-1ff6280f352a"
   },
   "outputs": [
    {
     "name": "stdout",
     "output_type": "stream",
     "text": [
      "Model: \"model_1\"\n",
      "__________________________________________________________________________________________________\n",
      " Layer (type)                   Output Shape         Param #     Connected to                     \n",
      "==================================================================================================\n",
      " input_3 (InputLayer)           [(None, 192, 192, 3  0           []                               \n",
      "                                )]                                                                \n",
      "                                                                                                  \n",
      " conv2d_13 (Conv2D)             (None, 95, 95, 32)   864         ['input_3[0][0]']                \n",
      "                                                                                                  \n",
      " batch_normalization (BatchNorm  (None, 95, 95, 32)  96          ['conv2d_13[0][0]']              \n",
      " alization)                                                                                       \n",
      "                                                                                                  \n",
      " activation (Activation)        (None, 95, 95, 32)   0           ['batch_normalization[0][0]']    \n",
      "                                                                                                  \n",
      " conv2d_14 (Conv2D)             (None, 93, 93, 32)   9216        ['activation[0][0]']             \n",
      "                                                                                                  \n",
      " batch_normalization_1 (BatchNo  (None, 93, 93, 32)  96          ['conv2d_14[0][0]']              \n",
      " rmalization)                                                                                     \n",
      "                                                                                                  \n",
      " activation_1 (Activation)      (None, 93, 93, 32)   0           ['batch_normalization_1[0][0]']  \n",
      "                                                                                                  \n",
      " conv2d_15 (Conv2D)             (None, 93, 93, 64)   18432       ['activation_1[0][0]']           \n",
      "                                                                                                  \n",
      " batch_normalization_2 (BatchNo  (None, 93, 93, 64)  192         ['conv2d_15[0][0]']              \n",
      " rmalization)                                                                                     \n",
      "                                                                                                  \n",
      " activation_2 (Activation)      (None, 93, 93, 64)   0           ['batch_normalization_2[0][0]']  \n",
      "                                                                                                  \n",
      " max_pooling2d_4 (MaxPooling2D)  (None, 46, 46, 64)  0           ['activation_2[0][0]']           \n",
      "                                                                                                  \n",
      " conv2d_16 (Conv2D)             (None, 46, 46, 80)   5120        ['max_pooling2d_4[0][0]']        \n",
      "                                                                                                  \n",
      " batch_normalization_3 (BatchNo  (None, 46, 46, 80)  240         ['conv2d_16[0][0]']              \n",
      " rmalization)                                                                                     \n",
      "                                                                                                  \n",
      " activation_3 (Activation)      (None, 46, 46, 80)   0           ['batch_normalization_3[0][0]']  \n",
      "                                                                                                  \n",
      " conv2d_17 (Conv2D)             (None, 44, 44, 192)  138240      ['activation_3[0][0]']           \n",
      "                                                                                                  \n",
      " batch_normalization_4 (BatchNo  (None, 44, 44, 192)  576        ['conv2d_17[0][0]']              \n",
      " rmalization)                                                                                     \n",
      "                                                                                                  \n",
      " activation_4 (Activation)      (None, 44, 44, 192)  0           ['batch_normalization_4[0][0]']  \n",
      "                                                                                                  \n",
      " max_pooling2d_5 (MaxPooling2D)  (None, 21, 21, 192)  0          ['activation_4[0][0]']           \n",
      "                                                                                                  \n",
      " conv2d_21 (Conv2D)             (None, 21, 21, 64)   12288       ['max_pooling2d_5[0][0]']        \n",
      "                                                                                                  \n",
      " batch_normalization_8 (BatchNo  (None, 21, 21, 64)  192         ['conv2d_21[0][0]']              \n",
      " rmalization)                                                                                     \n",
      "                                                                                                  \n",
      " activation_8 (Activation)      (None, 21, 21, 64)   0           ['batch_normalization_8[0][0]']  \n",
      "                                                                                                  \n",
      " conv2d_19 (Conv2D)             (None, 21, 21, 48)   9216        ['max_pooling2d_5[0][0]']        \n",
      "                                                                                                  \n",
      " conv2d_22 (Conv2D)             (None, 21, 21, 96)   55296       ['activation_8[0][0]']           \n",
      "                                                                                                  \n",
      " batch_normalization_6 (BatchNo  (None, 21, 21, 48)  144         ['conv2d_19[0][0]']              \n",
      " rmalization)                                                                                     \n",
      "                                                                                                  \n",
      " batch_normalization_9 (BatchNo  (None, 21, 21, 96)  288         ['conv2d_22[0][0]']              \n",
      " rmalization)                                                                                     \n",
      "                                                                                                  \n",
      " activation_6 (Activation)      (None, 21, 21, 48)   0           ['batch_normalization_6[0][0]']  \n",
      "                                                                                                  \n",
      " activation_9 (Activation)      (None, 21, 21, 96)   0           ['batch_normalization_9[0][0]']  \n",
      "                                                                                                  \n",
      " average_pooling2d (AveragePool  (None, 21, 21, 192)  0          ['max_pooling2d_5[0][0]']        \n",
      " ing2D)                                                                                           \n",
      "                                                                                                  \n",
      " conv2d_18 (Conv2D)             (None, 21, 21, 64)   12288       ['max_pooling2d_5[0][0]']        \n",
      "                                                                                                  \n",
      " conv2d_20 (Conv2D)             (None, 21, 21, 64)   76800       ['activation_6[0][0]']           \n",
      "                                                                                                  \n",
      " conv2d_23 (Conv2D)             (None, 21, 21, 96)   82944       ['activation_9[0][0]']           \n",
      "                                                                                                  \n",
      " conv2d_24 (Conv2D)             (None, 21, 21, 32)   6144        ['average_pooling2d[0][0]']      \n",
      "                                                                                                  \n",
      " batch_normalization_5 (BatchNo  (None, 21, 21, 64)  192         ['conv2d_18[0][0]']              \n",
      " rmalization)                                                                                     \n",
      "                                                                                                  \n",
      " batch_normalization_7 (BatchNo  (None, 21, 21, 64)  192         ['conv2d_20[0][0]']              \n",
      " rmalization)                                                                                     \n",
      "                                                                                                  \n",
      " batch_normalization_10 (BatchN  (None, 21, 21, 96)  288         ['conv2d_23[0][0]']              \n",
      " ormalization)                                                                                    \n",
      "                                                                                                  \n",
      " batch_normalization_11 (BatchN  (None, 21, 21, 32)  96          ['conv2d_24[0][0]']              \n",
      " ormalization)                                                                                    \n",
      "                                                                                                  \n",
      " activation_5 (Activation)      (None, 21, 21, 64)   0           ['batch_normalization_5[0][0]']  \n",
      "                                                                                                  \n",
      " activation_7 (Activation)      (None, 21, 21, 64)   0           ['batch_normalization_7[0][0]']  \n",
      "                                                                                                  \n",
      " activation_10 (Activation)     (None, 21, 21, 96)   0           ['batch_normalization_10[0][0]'] \n",
      "                                                                                                  \n",
      " activation_11 (Activation)     (None, 21, 21, 32)   0           ['batch_normalization_11[0][0]'] \n",
      "                                                                                                  \n",
      " mixed0 (Concatenate)           (None, 21, 21, 256)  0           ['activation_5[0][0]',           \n",
      "                                                                  'activation_7[0][0]',           \n",
      "                                                                  'activation_10[0][0]',          \n",
      "                                                                  'activation_11[0][0]']          \n",
      "                                                                                                  \n",
      " conv2d_28 (Conv2D)             (None, 21, 21, 64)   16384       ['mixed0[0][0]']                 \n",
      "                                                                                                  \n",
      " batch_normalization_15 (BatchN  (None, 21, 21, 64)  192         ['conv2d_28[0][0]']              \n",
      " ormalization)                                                                                    \n",
      "                                                                                                  \n",
      " activation_15 (Activation)     (None, 21, 21, 64)   0           ['batch_normalization_15[0][0]'] \n",
      "                                                                                                  \n",
      " conv2d_26 (Conv2D)             (None, 21, 21, 48)   12288       ['mixed0[0][0]']                 \n",
      "                                                                                                  \n",
      " conv2d_29 (Conv2D)             (None, 21, 21, 96)   55296       ['activation_15[0][0]']          \n",
      "                                                                                                  \n",
      " batch_normalization_13 (BatchN  (None, 21, 21, 48)  144         ['conv2d_26[0][0]']              \n",
      " ormalization)                                                                                    \n",
      "                                                                                                  \n",
      " batch_normalization_16 (BatchN  (None, 21, 21, 96)  288         ['conv2d_29[0][0]']              \n",
      " ormalization)                                                                                    \n",
      "                                                                                                  \n",
      " activation_13 (Activation)     (None, 21, 21, 48)   0           ['batch_normalization_13[0][0]'] \n",
      "                                                                                                  \n",
      " activation_16 (Activation)     (None, 21, 21, 96)   0           ['batch_normalization_16[0][0]'] \n",
      "                                                                                                  \n",
      " average_pooling2d_1 (AveragePo  (None, 21, 21, 256)  0          ['mixed0[0][0]']                 \n",
      " oling2D)                                                                                         \n",
      "                                                                                                  \n",
      " conv2d_25 (Conv2D)             (None, 21, 21, 64)   16384       ['mixed0[0][0]']                 \n",
      "                                                                                                  \n",
      " conv2d_27 (Conv2D)             (None, 21, 21, 64)   76800       ['activation_13[0][0]']          \n",
      "                                                                                                  \n",
      " conv2d_30 (Conv2D)             (None, 21, 21, 96)   82944       ['activation_16[0][0]']          \n",
      "                                                                                                  \n",
      " conv2d_31 (Conv2D)             (None, 21, 21, 64)   16384       ['average_pooling2d_1[0][0]']    \n",
      "                                                                                                  \n",
      " batch_normalization_12 (BatchN  (None, 21, 21, 64)  192         ['conv2d_25[0][0]']              \n",
      " ormalization)                                                                                    \n",
      "                                                                                                  \n",
      " batch_normalization_14 (BatchN  (None, 21, 21, 64)  192         ['conv2d_27[0][0]']              \n",
      " ormalization)                                                                                    \n",
      "                                                                                                  \n",
      " batch_normalization_17 (BatchN  (None, 21, 21, 96)  288         ['conv2d_30[0][0]']              \n",
      " ormalization)                                                                                    \n",
      "                                                                                                  \n",
      " batch_normalization_18 (BatchN  (None, 21, 21, 64)  192         ['conv2d_31[0][0]']              \n",
      " ormalization)                                                                                    \n",
      "                                                                                                  \n",
      " activation_12 (Activation)     (None, 21, 21, 64)   0           ['batch_normalization_12[0][0]'] \n",
      "                                                                                                  \n",
      " activation_14 (Activation)     (None, 21, 21, 64)   0           ['batch_normalization_14[0][0]'] \n",
      "                                                                                                  \n",
      " activation_17 (Activation)     (None, 21, 21, 96)   0           ['batch_normalization_17[0][0]'] \n",
      "                                                                                                  \n",
      " activation_18 (Activation)     (None, 21, 21, 64)   0           ['batch_normalization_18[0][0]'] \n",
      "                                                                                                  \n",
      " mixed1 (Concatenate)           (None, 21, 21, 288)  0           ['activation_12[0][0]',          \n",
      "                                                                  'activation_14[0][0]',          \n",
      "                                                                  'activation_17[0][0]',          \n",
      "                                                                  'activation_18[0][0]']          \n",
      "                                                                                                  \n",
      " conv2d_35 (Conv2D)             (None, 21, 21, 64)   18432       ['mixed1[0][0]']                 \n",
      "                                                                                                  \n",
      " batch_normalization_22 (BatchN  (None, 21, 21, 64)  192         ['conv2d_35[0][0]']              \n",
      " ormalization)                                                                                    \n",
      "                                                                                                  \n",
      " activation_22 (Activation)     (None, 21, 21, 64)   0           ['batch_normalization_22[0][0]'] \n",
      "                                                                                                  \n",
      " conv2d_33 (Conv2D)             (None, 21, 21, 48)   13824       ['mixed1[0][0]']                 \n",
      "                                                                                                  \n",
      " conv2d_36 (Conv2D)             (None, 21, 21, 96)   55296       ['activation_22[0][0]']          \n",
      "                                                                                                  \n",
      " batch_normalization_20 (BatchN  (None, 21, 21, 48)  144         ['conv2d_33[0][0]']              \n",
      " ormalization)                                                                                    \n",
      "                                                                                                  \n",
      " batch_normalization_23 (BatchN  (None, 21, 21, 96)  288         ['conv2d_36[0][0]']              \n",
      " ormalization)                                                                                    \n",
      "                                                                                                  \n",
      " activation_20 (Activation)     (None, 21, 21, 48)   0           ['batch_normalization_20[0][0]'] \n",
      "                                                                                                  \n",
      " activation_23 (Activation)     (None, 21, 21, 96)   0           ['batch_normalization_23[0][0]'] \n",
      "                                                                                                  \n",
      " average_pooling2d_2 (AveragePo  (None, 21, 21, 288)  0          ['mixed1[0][0]']                 \n",
      " oling2D)                                                                                         \n",
      "                                                                                                  \n",
      " conv2d_32 (Conv2D)             (None, 21, 21, 64)   18432       ['mixed1[0][0]']                 \n",
      "                                                                                                  \n",
      " conv2d_34 (Conv2D)             (None, 21, 21, 64)   76800       ['activation_20[0][0]']          \n",
      "                                                                                                  \n",
      " conv2d_37 (Conv2D)             (None, 21, 21, 96)   82944       ['activation_23[0][0]']          \n",
      "                                                                                                  \n",
      " conv2d_38 (Conv2D)             (None, 21, 21, 64)   18432       ['average_pooling2d_2[0][0]']    \n",
      "                                                                                                  \n",
      " batch_normalization_19 (BatchN  (None, 21, 21, 64)  192         ['conv2d_32[0][0]']              \n",
      " ormalization)                                                                                    \n",
      "                                                                                                  \n",
      " batch_normalization_21 (BatchN  (None, 21, 21, 64)  192         ['conv2d_34[0][0]']              \n",
      " ormalization)                                                                                    \n",
      "                                                                                                  \n",
      " batch_normalization_24 (BatchN  (None, 21, 21, 96)  288         ['conv2d_37[0][0]']              \n",
      " ormalization)                                                                                    \n",
      "                                                                                                  \n",
      " batch_normalization_25 (BatchN  (None, 21, 21, 64)  192         ['conv2d_38[0][0]']              \n",
      " ormalization)                                                                                    \n",
      "                                                                                                  \n",
      " activation_19 (Activation)     (None, 21, 21, 64)   0           ['batch_normalization_19[0][0]'] \n",
      "                                                                                                  \n",
      " activation_21 (Activation)     (None, 21, 21, 64)   0           ['batch_normalization_21[0][0]'] \n",
      "                                                                                                  \n",
      " activation_24 (Activation)     (None, 21, 21, 96)   0           ['batch_normalization_24[0][0]'] \n",
      "                                                                                                  \n",
      " activation_25 (Activation)     (None, 21, 21, 64)   0           ['batch_normalization_25[0][0]'] \n",
      "                                                                                                  \n",
      " mixed2 (Concatenate)           (None, 21, 21, 288)  0           ['activation_19[0][0]',          \n",
      "                                                                  'activation_21[0][0]',          \n",
      "                                                                  'activation_24[0][0]',          \n",
      "                                                                  'activation_25[0][0]']          \n",
      "                                                                                                  \n",
      " conv2d_40 (Conv2D)             (None, 21, 21, 64)   18432       ['mixed2[0][0]']                 \n",
      "                                                                                                  \n",
      " batch_normalization_27 (BatchN  (None, 21, 21, 64)  192         ['conv2d_40[0][0]']              \n",
      " ormalization)                                                                                    \n",
      "                                                                                                  \n",
      " activation_27 (Activation)     (None, 21, 21, 64)   0           ['batch_normalization_27[0][0]'] \n",
      "                                                                                                  \n",
      " conv2d_41 (Conv2D)             (None, 21, 21, 96)   55296       ['activation_27[0][0]']          \n",
      "                                                                                                  \n",
      " batch_normalization_28 (BatchN  (None, 21, 21, 96)  288         ['conv2d_41[0][0]']              \n",
      " ormalization)                                                                                    \n",
      "                                                                                                  \n",
      " activation_28 (Activation)     (None, 21, 21, 96)   0           ['batch_normalization_28[0][0]'] \n",
      "                                                                                                  \n",
      " conv2d_39 (Conv2D)             (None, 10, 10, 384)  995328      ['mixed2[0][0]']                 \n",
      "                                                                                                  \n",
      " conv2d_42 (Conv2D)             (None, 10, 10, 96)   82944       ['activation_28[0][0]']          \n",
      "                                                                                                  \n",
      " batch_normalization_26 (BatchN  (None, 10, 10, 384)  1152       ['conv2d_39[0][0]']              \n",
      " ormalization)                                                                                    \n",
      "                                                                                                  \n",
      " batch_normalization_29 (BatchN  (None, 10, 10, 96)  288         ['conv2d_42[0][0]']              \n",
      " ormalization)                                                                                    \n",
      "                                                                                                  \n",
      " activation_26 (Activation)     (None, 10, 10, 384)  0           ['batch_normalization_26[0][0]'] \n",
      "                                                                                                  \n",
      " activation_29 (Activation)     (None, 10, 10, 96)   0           ['batch_normalization_29[0][0]'] \n",
      "                                                                                                  \n",
      " max_pooling2d_6 (MaxPooling2D)  (None, 10, 10, 288)  0          ['mixed2[0][0]']                 \n",
      "                                                                                                  \n",
      " mixed3 (Concatenate)           (None, 10, 10, 768)  0           ['activation_26[0][0]',          \n",
      "                                                                  'activation_29[0][0]',          \n",
      "                                                                  'max_pooling2d_6[0][0]']        \n",
      "                                                                                                  \n",
      " conv2d_47 (Conv2D)             (None, 10, 10, 128)  98304       ['mixed3[0][0]']                 \n",
      "                                                                                                  \n",
      " batch_normalization_34 (BatchN  (None, 10, 10, 128)  384        ['conv2d_47[0][0]']              \n",
      " ormalization)                                                                                    \n",
      "                                                                                                  \n",
      " activation_34 (Activation)     (None, 10, 10, 128)  0           ['batch_normalization_34[0][0]'] \n",
      "                                                                                                  \n",
      " conv2d_48 (Conv2D)             (None, 10, 10, 128)  114688      ['activation_34[0][0]']          \n",
      "                                                                                                  \n",
      " batch_normalization_35 (BatchN  (None, 10, 10, 128)  384        ['conv2d_48[0][0]']              \n",
      " ormalization)                                                                                    \n",
      "                                                                                                  \n",
      " activation_35 (Activation)     (None, 10, 10, 128)  0           ['batch_normalization_35[0][0]'] \n",
      "                                                                                                  \n",
      " conv2d_44 (Conv2D)             (None, 10, 10, 128)  98304       ['mixed3[0][0]']                 \n",
      "                                                                                                  \n",
      " conv2d_49 (Conv2D)             (None, 10, 10, 128)  114688      ['activation_35[0][0]']          \n",
      "                                                                                                  \n",
      " batch_normalization_31 (BatchN  (None, 10, 10, 128)  384        ['conv2d_44[0][0]']              \n",
      " ormalization)                                                                                    \n",
      "                                                                                                  \n",
      " batch_normalization_36 (BatchN  (None, 10, 10, 128)  384        ['conv2d_49[0][0]']              \n",
      " ormalization)                                                                                    \n",
      "                                                                                                  \n",
      " activation_31 (Activation)     (None, 10, 10, 128)  0           ['batch_normalization_31[0][0]'] \n",
      "                                                                                                  \n",
      " activation_36 (Activation)     (None, 10, 10, 128)  0           ['batch_normalization_36[0][0]'] \n",
      "                                                                                                  \n",
      " conv2d_45 (Conv2D)             (None, 10, 10, 128)  114688      ['activation_31[0][0]']          \n",
      "                                                                                                  \n",
      " conv2d_50 (Conv2D)             (None, 10, 10, 128)  114688      ['activation_36[0][0]']          \n",
      "                                                                                                  \n",
      " batch_normalization_32 (BatchN  (None, 10, 10, 128)  384        ['conv2d_45[0][0]']              \n",
      " ormalization)                                                                                    \n",
      "                                                                                                  \n",
      " batch_normalization_37 (BatchN  (None, 10, 10, 128)  384        ['conv2d_50[0][0]']              \n",
      " ormalization)                                                                                    \n",
      "                                                                                                  \n",
      " activation_32 (Activation)     (None, 10, 10, 128)  0           ['batch_normalization_32[0][0]'] \n",
      "                                                                                                  \n",
      " activation_37 (Activation)     (None, 10, 10, 128)  0           ['batch_normalization_37[0][0]'] \n",
      "                                                                                                  \n",
      " average_pooling2d_3 (AveragePo  (None, 10, 10, 768)  0          ['mixed3[0][0]']                 \n",
      " oling2D)                                                                                         \n",
      "                                                                                                  \n",
      " conv2d_43 (Conv2D)             (None, 10, 10, 192)  147456      ['mixed3[0][0]']                 \n",
      "                                                                                                  \n",
      " conv2d_46 (Conv2D)             (None, 10, 10, 192)  172032      ['activation_32[0][0]']          \n",
      "                                                                                                  \n",
      " conv2d_51 (Conv2D)             (None, 10, 10, 192)  172032      ['activation_37[0][0]']          \n",
      "                                                                                                  \n",
      " conv2d_52 (Conv2D)             (None, 10, 10, 192)  147456      ['average_pooling2d_3[0][0]']    \n",
      "                                                                                                  \n",
      " batch_normalization_30 (BatchN  (None, 10, 10, 192)  576        ['conv2d_43[0][0]']              \n",
      " ormalization)                                                                                    \n",
      "                                                                                                  \n",
      " batch_normalization_33 (BatchN  (None, 10, 10, 192)  576        ['conv2d_46[0][0]']              \n",
      " ormalization)                                                                                    \n",
      "                                                                                                  \n",
      " batch_normalization_38 (BatchN  (None, 10, 10, 192)  576        ['conv2d_51[0][0]']              \n",
      " ormalization)                                                                                    \n",
      "                                                                                                  \n",
      " batch_normalization_39 (BatchN  (None, 10, 10, 192)  576        ['conv2d_52[0][0]']              \n",
      " ormalization)                                                                                    \n",
      "                                                                                                  \n",
      " activation_30 (Activation)     (None, 10, 10, 192)  0           ['batch_normalization_30[0][0]'] \n",
      "                                                                                                  \n",
      " activation_33 (Activation)     (None, 10, 10, 192)  0           ['batch_normalization_33[0][0]'] \n",
      "                                                                                                  \n",
      " activation_38 (Activation)     (None, 10, 10, 192)  0           ['batch_normalization_38[0][0]'] \n",
      "                                                                                                  \n",
      " activation_39 (Activation)     (None, 10, 10, 192)  0           ['batch_normalization_39[0][0]'] \n",
      "                                                                                                  \n",
      " mixed4 (Concatenate)           (None, 10, 10, 768)  0           ['activation_30[0][0]',          \n",
      "                                                                  'activation_33[0][0]',          \n",
      "                                                                  'activation_38[0][0]',          \n",
      "                                                                  'activation_39[0][0]']          \n",
      "                                                                                                  \n",
      " conv2d_57 (Conv2D)             (None, 10, 10, 160)  122880      ['mixed4[0][0]']                 \n",
      "                                                                                                  \n",
      " batch_normalization_44 (BatchN  (None, 10, 10, 160)  480        ['conv2d_57[0][0]']              \n",
      " ormalization)                                                                                    \n",
      "                                                                                                  \n",
      " activation_44 (Activation)     (None, 10, 10, 160)  0           ['batch_normalization_44[0][0]'] \n",
      "                                                                                                  \n",
      " conv2d_58 (Conv2D)             (None, 10, 10, 160)  179200      ['activation_44[0][0]']          \n",
      "                                                                                                  \n",
      " batch_normalization_45 (BatchN  (None, 10, 10, 160)  480        ['conv2d_58[0][0]']              \n",
      " ormalization)                                                                                    \n",
      "                                                                                                  \n",
      " activation_45 (Activation)     (None, 10, 10, 160)  0           ['batch_normalization_45[0][0]'] \n",
      "                                                                                                  \n",
      " conv2d_54 (Conv2D)             (None, 10, 10, 160)  122880      ['mixed4[0][0]']                 \n",
      "                                                                                                  \n",
      " conv2d_59 (Conv2D)             (None, 10, 10, 160)  179200      ['activation_45[0][0]']          \n",
      "                                                                                                  \n",
      " batch_normalization_41 (BatchN  (None, 10, 10, 160)  480        ['conv2d_54[0][0]']              \n",
      " ormalization)                                                                                    \n",
      "                                                                                                  \n",
      " batch_normalization_46 (BatchN  (None, 10, 10, 160)  480        ['conv2d_59[0][0]']              \n",
      " ormalization)                                                                                    \n",
      "                                                                                                  \n",
      " activation_41 (Activation)     (None, 10, 10, 160)  0           ['batch_normalization_41[0][0]'] \n",
      "                                                                                                  \n",
      " activation_46 (Activation)     (None, 10, 10, 160)  0           ['batch_normalization_46[0][0]'] \n",
      "                                                                                                  \n",
      " conv2d_55 (Conv2D)             (None, 10, 10, 160)  179200      ['activation_41[0][0]']          \n",
      "                                                                                                  \n",
      " conv2d_60 (Conv2D)             (None, 10, 10, 160)  179200      ['activation_46[0][0]']          \n",
      "                                                                                                  \n",
      " batch_normalization_42 (BatchN  (None, 10, 10, 160)  480        ['conv2d_55[0][0]']              \n",
      " ormalization)                                                                                    \n",
      "                                                                                                  \n",
      " batch_normalization_47 (BatchN  (None, 10, 10, 160)  480        ['conv2d_60[0][0]']              \n",
      " ormalization)                                                                                    \n",
      "                                                                                                  \n",
      " activation_42 (Activation)     (None, 10, 10, 160)  0           ['batch_normalization_42[0][0]'] \n",
      "                                                                                                  \n",
      " activation_47 (Activation)     (None, 10, 10, 160)  0           ['batch_normalization_47[0][0]'] \n",
      "                                                                                                  \n",
      " average_pooling2d_4 (AveragePo  (None, 10, 10, 768)  0          ['mixed4[0][0]']                 \n",
      " oling2D)                                                                                         \n",
      "                                                                                                  \n",
      " conv2d_53 (Conv2D)             (None, 10, 10, 192)  147456      ['mixed4[0][0]']                 \n",
      "                                                                                                  \n",
      " conv2d_56 (Conv2D)             (None, 10, 10, 192)  215040      ['activation_42[0][0]']          \n",
      "                                                                                                  \n",
      " conv2d_61 (Conv2D)             (None, 10, 10, 192)  215040      ['activation_47[0][0]']          \n",
      "                                                                                                  \n",
      " conv2d_62 (Conv2D)             (None, 10, 10, 192)  147456      ['average_pooling2d_4[0][0]']    \n",
      "                                                                                                  \n",
      " batch_normalization_40 (BatchN  (None, 10, 10, 192)  576        ['conv2d_53[0][0]']              \n",
      " ormalization)                                                                                    \n",
      "                                                                                                  \n",
      " batch_normalization_43 (BatchN  (None, 10, 10, 192)  576        ['conv2d_56[0][0]']              \n",
      " ormalization)                                                                                    \n",
      "                                                                                                  \n",
      " batch_normalization_48 (BatchN  (None, 10, 10, 192)  576        ['conv2d_61[0][0]']              \n",
      " ormalization)                                                                                    \n",
      "                                                                                                  \n",
      " batch_normalization_49 (BatchN  (None, 10, 10, 192)  576        ['conv2d_62[0][0]']              \n",
      " ormalization)                                                                                    \n",
      "                                                                                                  \n",
      " activation_40 (Activation)     (None, 10, 10, 192)  0           ['batch_normalization_40[0][0]'] \n",
      "                                                                                                  \n",
      " activation_43 (Activation)     (None, 10, 10, 192)  0           ['batch_normalization_43[0][0]'] \n",
      "                                                                                                  \n",
      " activation_48 (Activation)     (None, 10, 10, 192)  0           ['batch_normalization_48[0][0]'] \n",
      "                                                                                                  \n",
      " activation_49 (Activation)     (None, 10, 10, 192)  0           ['batch_normalization_49[0][0]'] \n",
      "                                                                                                  \n",
      " mixed5 (Concatenate)           (None, 10, 10, 768)  0           ['activation_40[0][0]',          \n",
      "                                                                  'activation_43[0][0]',          \n",
      "                                                                  'activation_48[0][0]',          \n",
      "                                                                  'activation_49[0][0]']          \n",
      "                                                                                                  \n",
      " conv2d_67 (Conv2D)             (None, 10, 10, 160)  122880      ['mixed5[0][0]']                 \n",
      "                                                                                                  \n",
      " batch_normalization_54 (BatchN  (None, 10, 10, 160)  480        ['conv2d_67[0][0]']              \n",
      " ormalization)                                                                                    \n",
      "                                                                                                  \n",
      " activation_54 (Activation)     (None, 10, 10, 160)  0           ['batch_normalization_54[0][0]'] \n",
      "                                                                                                  \n",
      " conv2d_68 (Conv2D)             (None, 10, 10, 160)  179200      ['activation_54[0][0]']          \n",
      "                                                                                                  \n",
      " batch_normalization_55 (BatchN  (None, 10, 10, 160)  480        ['conv2d_68[0][0]']              \n",
      " ormalization)                                                                                    \n",
      "                                                                                                  \n",
      " activation_55 (Activation)     (None, 10, 10, 160)  0           ['batch_normalization_55[0][0]'] \n",
      "                                                                                                  \n",
      " conv2d_64 (Conv2D)             (None, 10, 10, 160)  122880      ['mixed5[0][0]']                 \n",
      "                                                                                                  \n",
      " conv2d_69 (Conv2D)             (None, 10, 10, 160)  179200      ['activation_55[0][0]']          \n",
      "                                                                                                  \n",
      " batch_normalization_51 (BatchN  (None, 10, 10, 160)  480        ['conv2d_64[0][0]']              \n",
      " ormalization)                                                                                    \n",
      "                                                                                                  \n",
      " batch_normalization_56 (BatchN  (None, 10, 10, 160)  480        ['conv2d_69[0][0]']              \n",
      " ormalization)                                                                                    \n",
      "                                                                                                  \n",
      " activation_51 (Activation)     (None, 10, 10, 160)  0           ['batch_normalization_51[0][0]'] \n",
      "                                                                                                  \n",
      " activation_56 (Activation)     (None, 10, 10, 160)  0           ['batch_normalization_56[0][0]'] \n",
      "                                                                                                  \n",
      " conv2d_65 (Conv2D)             (None, 10, 10, 160)  179200      ['activation_51[0][0]']          \n",
      "                                                                                                  \n",
      " conv2d_70 (Conv2D)             (None, 10, 10, 160)  179200      ['activation_56[0][0]']          \n",
      "                                                                                                  \n",
      " batch_normalization_52 (BatchN  (None, 10, 10, 160)  480        ['conv2d_65[0][0]']              \n",
      " ormalization)                                                                                    \n",
      "                                                                                                  \n",
      " batch_normalization_57 (BatchN  (None, 10, 10, 160)  480        ['conv2d_70[0][0]']              \n",
      " ormalization)                                                                                    \n",
      "                                                                                                  \n",
      " activation_52 (Activation)     (None, 10, 10, 160)  0           ['batch_normalization_52[0][0]'] \n",
      "                                                                                                  \n",
      " activation_57 (Activation)     (None, 10, 10, 160)  0           ['batch_normalization_57[0][0]'] \n",
      "                                                                                                  \n",
      " average_pooling2d_5 (AveragePo  (None, 10, 10, 768)  0          ['mixed5[0][0]']                 \n",
      " oling2D)                                                                                         \n",
      "                                                                                                  \n",
      " conv2d_63 (Conv2D)             (None, 10, 10, 192)  147456      ['mixed5[0][0]']                 \n",
      "                                                                                                  \n",
      " conv2d_66 (Conv2D)             (None, 10, 10, 192)  215040      ['activation_52[0][0]']          \n",
      "                                                                                                  \n",
      " conv2d_71 (Conv2D)             (None, 10, 10, 192)  215040      ['activation_57[0][0]']          \n",
      "                                                                                                  \n",
      " conv2d_72 (Conv2D)             (None, 10, 10, 192)  147456      ['average_pooling2d_5[0][0]']    \n",
      "                                                                                                  \n",
      " batch_normalization_50 (BatchN  (None, 10, 10, 192)  576        ['conv2d_63[0][0]']              \n",
      " ormalization)                                                                                    \n",
      "                                                                                                  \n",
      " batch_normalization_53 (BatchN  (None, 10, 10, 192)  576        ['conv2d_66[0][0]']              \n",
      " ormalization)                                                                                    \n",
      "                                                                                                  \n",
      " batch_normalization_58 (BatchN  (None, 10, 10, 192)  576        ['conv2d_71[0][0]']              \n",
      " ormalization)                                                                                    \n",
      "                                                                                                  \n",
      " batch_normalization_59 (BatchN  (None, 10, 10, 192)  576        ['conv2d_72[0][0]']              \n",
      " ormalization)                                                                                    \n",
      "                                                                                                  \n",
      " activation_50 (Activation)     (None, 10, 10, 192)  0           ['batch_normalization_50[0][0]'] \n",
      "                                                                                                  \n",
      " activation_53 (Activation)     (None, 10, 10, 192)  0           ['batch_normalization_53[0][0]'] \n",
      "                                                                                                  \n",
      " activation_58 (Activation)     (None, 10, 10, 192)  0           ['batch_normalization_58[0][0]'] \n",
      "                                                                                                  \n",
      " activation_59 (Activation)     (None, 10, 10, 192)  0           ['batch_normalization_59[0][0]'] \n",
      "                                                                                                  \n",
      " mixed6 (Concatenate)           (None, 10, 10, 768)  0           ['activation_50[0][0]',          \n",
      "                                                                  'activation_53[0][0]',          \n",
      "                                                                  'activation_58[0][0]',          \n",
      "                                                                  'activation_59[0][0]']          \n",
      "                                                                                                  \n",
      " conv2d_77 (Conv2D)             (None, 10, 10, 192)  147456      ['mixed6[0][0]']                 \n",
      "                                                                                                  \n",
      " batch_normalization_64 (BatchN  (None, 10, 10, 192)  576        ['conv2d_77[0][0]']              \n",
      " ormalization)                                                                                    \n",
      "                                                                                                  \n",
      " activation_64 (Activation)     (None, 10, 10, 192)  0           ['batch_normalization_64[0][0]'] \n",
      "                                                                                                  \n",
      " conv2d_78 (Conv2D)             (None, 10, 10, 192)  258048      ['activation_64[0][0]']          \n",
      "                                                                                                  \n",
      " batch_normalization_65 (BatchN  (None, 10, 10, 192)  576        ['conv2d_78[0][0]']              \n",
      " ormalization)                                                                                    \n",
      "                                                                                                  \n",
      " activation_65 (Activation)     (None, 10, 10, 192)  0           ['batch_normalization_65[0][0]'] \n",
      "                                                                                                  \n",
      " conv2d_74 (Conv2D)             (None, 10, 10, 192)  147456      ['mixed6[0][0]']                 \n",
      "                                                                                                  \n",
      " conv2d_79 (Conv2D)             (None, 10, 10, 192)  258048      ['activation_65[0][0]']          \n",
      "                                                                                                  \n",
      " batch_normalization_61 (BatchN  (None, 10, 10, 192)  576        ['conv2d_74[0][0]']              \n",
      " ormalization)                                                                                    \n",
      "                                                                                                  \n",
      " batch_normalization_66 (BatchN  (None, 10, 10, 192)  576        ['conv2d_79[0][0]']              \n",
      " ormalization)                                                                                    \n",
      "                                                                                                  \n",
      " activation_61 (Activation)     (None, 10, 10, 192)  0           ['batch_normalization_61[0][0]'] \n",
      "                                                                                                  \n",
      " activation_66 (Activation)     (None, 10, 10, 192)  0           ['batch_normalization_66[0][0]'] \n",
      "                                                                                                  \n",
      " conv2d_75 (Conv2D)             (None, 10, 10, 192)  258048      ['activation_61[0][0]']          \n",
      "                                                                                                  \n",
      " conv2d_80 (Conv2D)             (None, 10, 10, 192)  258048      ['activation_66[0][0]']          \n",
      "                                                                                                  \n",
      " batch_normalization_62 (BatchN  (None, 10, 10, 192)  576        ['conv2d_75[0][0]']              \n",
      " ormalization)                                                                                    \n",
      "                                                                                                  \n",
      " batch_normalization_67 (BatchN  (None, 10, 10, 192)  576        ['conv2d_80[0][0]']              \n",
      " ormalization)                                                                                    \n",
      "                                                                                                  \n",
      " activation_62 (Activation)     (None, 10, 10, 192)  0           ['batch_normalization_62[0][0]'] \n",
      "                                                                                                  \n",
      " activation_67 (Activation)     (None, 10, 10, 192)  0           ['batch_normalization_67[0][0]'] \n",
      "                                                                                                  \n",
      " average_pooling2d_6 (AveragePo  (None, 10, 10, 768)  0          ['mixed6[0][0]']                 \n",
      " oling2D)                                                                                         \n",
      "                                                                                                  \n",
      " conv2d_73 (Conv2D)             (None, 10, 10, 192)  147456      ['mixed6[0][0]']                 \n",
      "                                                                                                  \n",
      " conv2d_76 (Conv2D)             (None, 10, 10, 192)  258048      ['activation_62[0][0]']          \n",
      "                                                                                                  \n",
      " conv2d_81 (Conv2D)             (None, 10, 10, 192)  258048      ['activation_67[0][0]']          \n",
      "                                                                                                  \n",
      " conv2d_82 (Conv2D)             (None, 10, 10, 192)  147456      ['average_pooling2d_6[0][0]']    \n",
      "                                                                                                  \n",
      " batch_normalization_60 (BatchN  (None, 10, 10, 192)  576        ['conv2d_73[0][0]']              \n",
      " ormalization)                                                                                    \n",
      "                                                                                                  \n",
      " batch_normalization_63 (BatchN  (None, 10, 10, 192)  576        ['conv2d_76[0][0]']              \n",
      " ormalization)                                                                                    \n",
      "                                                                                                  \n",
      " batch_normalization_68 (BatchN  (None, 10, 10, 192)  576        ['conv2d_81[0][0]']              \n",
      " ormalization)                                                                                    \n",
      "                                                                                                  \n",
      " batch_normalization_69 (BatchN  (None, 10, 10, 192)  576        ['conv2d_82[0][0]']              \n",
      " ormalization)                                                                                    \n",
      "                                                                                                  \n",
      " activation_60 (Activation)     (None, 10, 10, 192)  0           ['batch_normalization_60[0][0]'] \n",
      "                                                                                                  \n",
      " activation_63 (Activation)     (None, 10, 10, 192)  0           ['batch_normalization_63[0][0]'] \n",
      "                                                                                                  \n",
      " activation_68 (Activation)     (None, 10, 10, 192)  0           ['batch_normalization_68[0][0]'] \n",
      "                                                                                                  \n",
      " activation_69 (Activation)     (None, 10, 10, 192)  0           ['batch_normalization_69[0][0]'] \n",
      "                                                                                                  \n",
      " mixed7 (Concatenate)           (None, 10, 10, 768)  0           ['activation_60[0][0]',          \n",
      "                                                                  'activation_63[0][0]',          \n",
      "                                                                  'activation_68[0][0]',          \n",
      "                                                                  'activation_69[0][0]']          \n",
      "                                                                                                  \n",
      " conv2d_85 (Conv2D)             (None, 10, 10, 192)  147456      ['mixed7[0][0]']                 \n",
      "                                                                                                  \n",
      " batch_normalization_72 (BatchN  (None, 10, 10, 192)  576        ['conv2d_85[0][0]']              \n",
      " ormalization)                                                                                    \n",
      "                                                                                                  \n",
      " activation_72 (Activation)     (None, 10, 10, 192)  0           ['batch_normalization_72[0][0]'] \n",
      "                                                                                                  \n",
      " conv2d_86 (Conv2D)             (None, 10, 10, 192)  258048      ['activation_72[0][0]']          \n",
      "                                                                                                  \n",
      " batch_normalization_73 (BatchN  (None, 10, 10, 192)  576        ['conv2d_86[0][0]']              \n",
      " ormalization)                                                                                    \n",
      "                                                                                                  \n",
      " activation_73 (Activation)     (None, 10, 10, 192)  0           ['batch_normalization_73[0][0]'] \n",
      "                                                                                                  \n",
      " conv2d_83 (Conv2D)             (None, 10, 10, 192)  147456      ['mixed7[0][0]']                 \n",
      "                                                                                                  \n",
      " conv2d_87 (Conv2D)             (None, 10, 10, 192)  258048      ['activation_73[0][0]']          \n",
      "                                                                                                  \n",
      " batch_normalization_70 (BatchN  (None, 10, 10, 192)  576        ['conv2d_83[0][0]']              \n",
      " ormalization)                                                                                    \n",
      "                                                                                                  \n",
      " batch_normalization_74 (BatchN  (None, 10, 10, 192)  576        ['conv2d_87[0][0]']              \n",
      " ormalization)                                                                                    \n",
      "                                                                                                  \n",
      " activation_70 (Activation)     (None, 10, 10, 192)  0           ['batch_normalization_70[0][0]'] \n",
      "                                                                                                  \n",
      " activation_74 (Activation)     (None, 10, 10, 192)  0           ['batch_normalization_74[0][0]'] \n",
      "                                                                                                  \n",
      " conv2d_84 (Conv2D)             (None, 4, 4, 320)    552960      ['activation_70[0][0]']          \n",
      "                                                                                                  \n",
      " conv2d_88 (Conv2D)             (None, 4, 4, 192)    331776      ['activation_74[0][0]']          \n",
      "                                                                                                  \n",
      " batch_normalization_71 (BatchN  (None, 4, 4, 320)   960         ['conv2d_84[0][0]']              \n",
      " ormalization)                                                                                    \n",
      "                                                                                                  \n",
      " batch_normalization_75 (BatchN  (None, 4, 4, 192)   576         ['conv2d_88[0][0]']              \n",
      " ormalization)                                                                                    \n",
      "                                                                                                  \n",
      " activation_71 (Activation)     (None, 4, 4, 320)    0           ['batch_normalization_71[0][0]'] \n",
      "                                                                                                  \n",
      " activation_75 (Activation)     (None, 4, 4, 192)    0           ['batch_normalization_75[0][0]'] \n",
      "                                                                                                  \n",
      " max_pooling2d_7 (MaxPooling2D)  (None, 4, 4, 768)   0           ['mixed7[0][0]']                 \n",
      "                                                                                                  \n",
      " mixed8 (Concatenate)           (None, 4, 4, 1280)   0           ['activation_71[0][0]',          \n",
      "                                                                  'activation_75[0][0]',          \n",
      "                                                                  'max_pooling2d_7[0][0]']        \n",
      "                                                                                                  \n",
      " conv2d_93 (Conv2D)             (None, 4, 4, 448)    573440      ['mixed8[0][0]']                 \n",
      "                                                                                                  \n",
      " batch_normalization_80 (BatchN  (None, 4, 4, 448)   1344        ['conv2d_93[0][0]']              \n",
      " ormalization)                                                                                    \n",
      "                                                                                                  \n",
      " activation_80 (Activation)     (None, 4, 4, 448)    0           ['batch_normalization_80[0][0]'] \n",
      "                                                                                                  \n",
      " conv2d_90 (Conv2D)             (None, 4, 4, 384)    491520      ['mixed8[0][0]']                 \n",
      "                                                                                                  \n",
      " conv2d_94 (Conv2D)             (None, 4, 4, 384)    1548288     ['activation_80[0][0]']          \n",
      "                                                                                                  \n",
      " batch_normalization_77 (BatchN  (None, 4, 4, 384)   1152        ['conv2d_90[0][0]']              \n",
      " ormalization)                                                                                    \n",
      "                                                                                                  \n",
      " batch_normalization_81 (BatchN  (None, 4, 4, 384)   1152        ['conv2d_94[0][0]']              \n",
      " ormalization)                                                                                    \n",
      "                                                                                                  \n",
      " activation_77 (Activation)     (None, 4, 4, 384)    0           ['batch_normalization_77[0][0]'] \n",
      "                                                                                                  \n",
      " activation_81 (Activation)     (None, 4, 4, 384)    0           ['batch_normalization_81[0][0]'] \n",
      "                                                                                                  \n",
      " conv2d_91 (Conv2D)             (None, 4, 4, 384)    442368      ['activation_77[0][0]']          \n",
      "                                                                                                  \n",
      " conv2d_92 (Conv2D)             (None, 4, 4, 384)    442368      ['activation_77[0][0]']          \n",
      "                                                                                                  \n",
      " conv2d_95 (Conv2D)             (None, 4, 4, 384)    442368      ['activation_81[0][0]']          \n",
      "                                                                                                  \n",
      " conv2d_96 (Conv2D)             (None, 4, 4, 384)    442368      ['activation_81[0][0]']          \n",
      "                                                                                                  \n",
      " average_pooling2d_7 (AveragePo  (None, 4, 4, 1280)  0           ['mixed8[0][0]']                 \n",
      " oling2D)                                                                                         \n",
      "                                                                                                  \n",
      " conv2d_89 (Conv2D)             (None, 4, 4, 320)    409600      ['mixed8[0][0]']                 \n",
      "                                                                                                  \n",
      " batch_normalization_78 (BatchN  (None, 4, 4, 384)   1152        ['conv2d_91[0][0]']              \n",
      " ormalization)                                                                                    \n",
      "                                                                                                  \n",
      " batch_normalization_79 (BatchN  (None, 4, 4, 384)   1152        ['conv2d_92[0][0]']              \n",
      " ormalization)                                                                                    \n",
      "                                                                                                  \n",
      " batch_normalization_82 (BatchN  (None, 4, 4, 384)   1152        ['conv2d_95[0][0]']              \n",
      " ormalization)                                                                                    \n",
      "                                                                                                  \n",
      " batch_normalization_83 (BatchN  (None, 4, 4, 384)   1152        ['conv2d_96[0][0]']              \n",
      " ormalization)                                                                                    \n",
      "                                                                                                  \n",
      " conv2d_97 (Conv2D)             (None, 4, 4, 192)    245760      ['average_pooling2d_7[0][0]']    \n",
      "                                                                                                  \n",
      " batch_normalization_76 (BatchN  (None, 4, 4, 320)   960         ['conv2d_89[0][0]']              \n",
      " ormalization)                                                                                    \n",
      "                                                                                                  \n",
      " activation_78 (Activation)     (None, 4, 4, 384)    0           ['batch_normalization_78[0][0]'] \n",
      "                                                                                                  \n",
      " activation_79 (Activation)     (None, 4, 4, 384)    0           ['batch_normalization_79[0][0]'] \n",
      "                                                                                                  \n",
      " activation_82 (Activation)     (None, 4, 4, 384)    0           ['batch_normalization_82[0][0]'] \n",
      "                                                                                                  \n",
      " activation_83 (Activation)     (None, 4, 4, 384)    0           ['batch_normalization_83[0][0]'] \n",
      "                                                                                                  \n",
      " batch_normalization_84 (BatchN  (None, 4, 4, 192)   576         ['conv2d_97[0][0]']              \n",
      " ormalization)                                                                                    \n",
      "                                                                                                  \n",
      " activation_76 (Activation)     (None, 4, 4, 320)    0           ['batch_normalization_76[0][0]'] \n",
      "                                                                                                  \n",
      " mixed9_0 (Concatenate)         (None, 4, 4, 768)    0           ['activation_78[0][0]',          \n",
      "                                                                  'activation_79[0][0]']          \n",
      "                                                                                                  \n",
      " concatenate (Concatenate)      (None, 4, 4, 768)    0           ['activation_82[0][0]',          \n",
      "                                                                  'activation_83[0][0]']          \n",
      "                                                                                                  \n",
      " activation_84 (Activation)     (None, 4, 4, 192)    0           ['batch_normalization_84[0][0]'] \n",
      "                                                                                                  \n",
      " mixed9 (Concatenate)           (None, 4, 4, 2048)   0           ['activation_76[0][0]',          \n",
      "                                                                  'mixed9_0[0][0]',               \n",
      "                                                                  'concatenate[0][0]',            \n",
      "                                                                  'activation_84[0][0]']          \n",
      "                                                                                                  \n",
      " conv2d_102 (Conv2D)            (None, 4, 4, 448)    917504      ['mixed9[0][0]']                 \n",
      "                                                                                                  \n",
      " batch_normalization_89 (BatchN  (None, 4, 4, 448)   1344        ['conv2d_102[0][0]']             \n",
      " ormalization)                                                                                    \n",
      "                                                                                                  \n",
      " activation_89 (Activation)     (None, 4, 4, 448)    0           ['batch_normalization_89[0][0]'] \n",
      "                                                                                                  \n",
      " conv2d_99 (Conv2D)             (None, 4, 4, 384)    786432      ['mixed9[0][0]']                 \n",
      "                                                                                                  \n",
      " conv2d_103 (Conv2D)            (None, 4, 4, 384)    1548288     ['activation_89[0][0]']          \n",
      "                                                                                                  \n",
      " batch_normalization_86 (BatchN  (None, 4, 4, 384)   1152        ['conv2d_99[0][0]']              \n",
      " ormalization)                                                                                    \n",
      "                                                                                                  \n",
      " batch_normalization_90 (BatchN  (None, 4, 4, 384)   1152        ['conv2d_103[0][0]']             \n",
      " ormalization)                                                                                    \n",
      "                                                                                                  \n",
      " activation_86 (Activation)     (None, 4, 4, 384)    0           ['batch_normalization_86[0][0]'] \n",
      "                                                                                                  \n",
      " activation_90 (Activation)     (None, 4, 4, 384)    0           ['batch_normalization_90[0][0]'] \n",
      "                                                                                                  \n",
      " conv2d_100 (Conv2D)            (None, 4, 4, 384)    442368      ['activation_86[0][0]']          \n",
      "                                                                                                  \n",
      " conv2d_101 (Conv2D)            (None, 4, 4, 384)    442368      ['activation_86[0][0]']          \n",
      "                                                                                                  \n",
      " conv2d_104 (Conv2D)            (None, 4, 4, 384)    442368      ['activation_90[0][0]']          \n",
      "                                                                                                  \n",
      " conv2d_105 (Conv2D)            (None, 4, 4, 384)    442368      ['activation_90[0][0]']          \n",
      "                                                                                                  \n",
      " average_pooling2d_8 (AveragePo  (None, 4, 4, 2048)  0           ['mixed9[0][0]']                 \n",
      " oling2D)                                                                                         \n",
      "                                                                                                  \n",
      " conv2d_98 (Conv2D)             (None, 4, 4, 320)    655360      ['mixed9[0][0]']                 \n",
      "                                                                                                  \n",
      " batch_normalization_87 (BatchN  (None, 4, 4, 384)   1152        ['conv2d_100[0][0]']             \n",
      " ormalization)                                                                                    \n",
      "                                                                                                  \n",
      " batch_normalization_88 (BatchN  (None, 4, 4, 384)   1152        ['conv2d_101[0][0]']             \n",
      " ormalization)                                                                                    \n",
      "                                                                                                  \n",
      " batch_normalization_91 (BatchN  (None, 4, 4, 384)   1152        ['conv2d_104[0][0]']             \n",
      " ormalization)                                                                                    \n",
      "                                                                                                  \n",
      " batch_normalization_92 (BatchN  (None, 4, 4, 384)   1152        ['conv2d_105[0][0]']             \n",
      " ormalization)                                                                                    \n",
      "                                                                                                  \n",
      " conv2d_106 (Conv2D)            (None, 4, 4, 192)    393216      ['average_pooling2d_8[0][0]']    \n",
      "                                                                                                  \n",
      " batch_normalization_85 (BatchN  (None, 4, 4, 320)   960         ['conv2d_98[0][0]']              \n",
      " ormalization)                                                                                    \n",
      "                                                                                                  \n",
      " activation_87 (Activation)     (None, 4, 4, 384)    0           ['batch_normalization_87[0][0]'] \n",
      "                                                                                                  \n",
      " activation_88 (Activation)     (None, 4, 4, 384)    0           ['batch_normalization_88[0][0]'] \n",
      "                                                                                                  \n",
      " activation_91 (Activation)     (None, 4, 4, 384)    0           ['batch_normalization_91[0][0]'] \n",
      "                                                                                                  \n",
      " activation_92 (Activation)     (None, 4, 4, 384)    0           ['batch_normalization_92[0][0]'] \n",
      "                                                                                                  \n",
      " batch_normalization_93 (BatchN  (None, 4, 4, 192)   576         ['conv2d_106[0][0]']             \n",
      " ormalization)                                                                                    \n",
      "                                                                                                  \n",
      " activation_85 (Activation)     (None, 4, 4, 320)    0           ['batch_normalization_85[0][0]'] \n",
      "                                                                                                  \n",
      " mixed9_1 (Concatenate)         (None, 4, 4, 768)    0           ['activation_87[0][0]',          \n",
      "                                                                  'activation_88[0][0]']          \n",
      "                                                                                                  \n",
      " concatenate_1 (Concatenate)    (None, 4, 4, 768)    0           ['activation_91[0][0]',          \n",
      "                                                                  'activation_92[0][0]']          \n",
      "                                                                                                  \n",
      " activation_93 (Activation)     (None, 4, 4, 192)    0           ['batch_normalization_93[0][0]'] \n",
      "                                                                                                  \n",
      " mixed10 (Concatenate)          (None, 4, 4, 2048)   0           ['activation_85[0][0]',          \n",
      "                                                                  'mixed9_1[0][0]',               \n",
      "                                                                  'concatenate_1[0][0]',          \n",
      "                                                                  'activation_93[0][0]']          \n",
      "                                                                                                  \n",
      " flatten_2 (Flatten)            (None, 32768)        0           ['mixed10[0][0]']                \n",
      "                                                                                                  \n",
      " dense_3 (Dense)                (None, 3)            98307       ['flatten_2[0][0]']              \n",
      "                                                                                                  \n",
      "==================================================================================================\n",
      "Total params: 21,901,091\n",
      "Trainable params: 98,307\n",
      "Non-trainable params: 21,802,784\n",
      "__________________________________________________________________________________________________\n"
     ]
    }
   ],
   "source": [
    "from tensorflow.keras.applications.inception_v3 import InceptionV3\n",
    "from tensorflow.keras.models import Model\n",
    "from tensorflow.keras.layers import Dense\n",
    "from tensorflow.keras.layers import Flatten\n",
    "\n",
    "# Create new classifier layers (and plug into output of last layer from above model using \"model.layers[-1].output\")\n",
    "flat1 = Flatten()(base_model.layers[-1].output)\n",
    "output = Dense(3, activation='softmax')(flat1)\n",
    "\n",
    "# define new model\n",
    "model_4 = Model(inputs=base_model.inputs, outputs=output) #base_model.inputs imports the vgg16 model defined in base_model\n",
    "\n",
    "# summarize\n",
    "model_4.summary()"
   ]
  },
  {
   "cell_type": "code",
   "execution_count": null,
   "metadata": {
    "colab": {
     "base_uri": "https://localhost:8080/"
    },
    "id": "PcDZxuX_wSTe",
    "outputId": "1c981b56-0aa3-4f9a-c1a5-09b150f9eb09"
   },
   "outputs": [
    {
     "name": "stdout",
     "output_type": "stream",
     "text": [
      "Epoch 1/3\n",
      "2192/2192 [==============================] - 60s 25ms/step - loss: 76.9976 - acc: 0.7523 - val_loss: 97.1526 - val_acc: 0.6940\n",
      "Epoch 2/3\n",
      "2192/2192 [==============================] - 54s 25ms/step - loss: 44.6479 - acc: 0.8426 - val_loss: 33.5812 - val_acc: 0.8761\n",
      "Epoch 3/3\n",
      "2192/2192 [==============================] - 52s 24ms/step - loss: 32.0806 - acc: 0.8814 - val_loss: 31.5128 - val_acc: 0.8944\n"
     ]
    }
   ],
   "source": [
    "import tensorflow as tf\n",
    "with tf.device('/device:GPU:0'): #\"/GPU:0\": Short-hand notation for the first GPU of your machine that is visible to TensorFlow.\n",
    "  from tensorflow.python.keras.callbacks import ReduceLROnPlateau\n",
    "  from tensorflow.python.keras.callbacks import ModelCheckpoint\n",
    "  \n",
    "  #mc = ModelCheckpoint('best_model.h5', monitor='val_acc',mode='max', verbose=1, save_best_only=True) # evaluating val_acc maximization\n",
    "  #red_lr= ReduceLROnPlateau(monitor='val_acc',patience=2,verbose=1,factor=0.5, min_lr=0.001) # dividing lr by 2 when val_accuracy fails to improve after 2 epochs\n",
    "\n",
    "  model_4.compile(loss='categorical_crossentropy', optimizer='sgd', metrics=['acc']) \n",
    "\n",
    "  model_4.fit(X_train, y_train,batch_size=1,\n",
    "          epochs = 3, verbose=1,validation_split=.2) #callbacks=[mc,red_lr]"
   ]
  },
  {
   "cell_type": "code",
   "execution_count": null,
   "metadata": {
    "id": "pAA8CbQIwSTf"
   },
   "outputs": [],
   "source": [
    "model_4.save(\"model_4.h5\", save_format=\"h5\")"
   ]
  },
  {
   "cell_type": "code",
   "execution_count": null,
   "metadata": {
    "colab": {
     "base_uri": "https://localhost:8080/"
    },
    "id": "F3Rp0WjawSTf",
    "outputId": "9a460073-289f-4a0d-d7c2-33e25f1f537c"
   },
   "outputs": [
    {
     "name": "stdout",
     "output_type": "stream",
     "text": [
      "Your preprocessor is now saved to 'preprocessor.zip'\n"
     ]
    }
   ],
   "source": [
    "# Save preprocessor function (may need to reload function in cell above)\n",
    "import aimodelshare as ai\n",
    "ai.export_preprocessor(preprocessor,\"\")"
   ]
  },
  {
   "cell_type": "code",
   "execution_count": null,
   "metadata": {
    "colab": {
     "base_uri": "https://localhost:8080/"
    },
    "id": "pKbbNsvcwSTf",
    "outputId": "9e962e68-1094-4030-cc6f-5097812f1984"
   },
   "outputs": [
    {
     "name": "stdout",
     "output_type": "stream",
     "text": [
      "WARNING: AutoGraph could not transform <function trace_model_call.<locals>._wrapped_model at 0x7fd0444044c0> and will run it as-is.\n",
      "Cause: Unable to locate the source code of <function trace_model_call.<locals>._wrapped_model at 0x7fd0444044c0>. Note that functions defined in certain environments, like the interactive Python shell, do not expose their source code. If that is the case, you should define them in a .py source file. If you are certain the code is graph-compatible, wrap the call using @tf.autograph.experimental.do_not_convert. Original error: could not get source code\n",
      "To silence this warning, decorate the function with @tf.autograph.experimental.do_not_convert\n"
     ]
    }
   ],
   "source": [
    "# Save tf.keras model (or any tensorflow model) to local ONNX file\n",
    "from aimodelshare.aimsonnx import model_to_onnx\n",
    "\n",
    "onnx_model = model_to_onnx(model_4, framework='keras',\n",
    "                          transfer_learning=True,\n",
    "                          deep_learning=True)\n",
    "\n",
    "with open(\"model.onnx\", \"wb\") as f:\n",
    "    f.write(onnx_model.SerializeToString())"
   ]
  },
  {
   "cell_type": "code",
   "execution_count": null,
   "metadata": {
    "colab": {
     "base_uri": "https://localhost:8080/"
    },
    "id": "caAHVynLwSTf",
    "outputId": "c27adfde-d4be-4d29-f265-84426a90a65d"
   },
   "outputs": [
    {
     "name": "stdout",
     "output_type": "stream",
     "text": [
      "WARNING: AutoGraph could not transform <function Model.make_predict_function.<locals>.predict_function at 0x7fd040cafc10> and will run it as-is.\n",
      "Please report this to the TensorFlow team. When filing the bug, set the verbosity to 10 (on Linux, `export AUTOGRAPH_VERBOSITY=10`) and attach the full output.\n",
      "Cause: closure mismatch, requested ('self', 'step_function'), but source function had ()\n",
      "To silence this warning, decorate the function with @tf.autograph.experimental.do_not_convert\n",
      "41/41 [==============================] - 6s 77ms/step\n"
     ]
    }
   ],
   "source": [
    "#Use X_test data to generate model predictions and make leaderboard submission\n",
    "\n",
    "#Generate and save predictions\n",
    "\n",
    "#Load preprocessed data\n",
    "#If you run out of Colab memory restart runtime, reload data and try again\n",
    "import pickle\n",
    "  \n",
    "# Open the file in binary mode\n",
    "with open('X_test.pkl', 'rb') as file:\n",
    "    # Call load method to deserialze\n",
    "    X_test = pickle.load(file)\n",
    "\n",
    "# Open the file in binary mode\n",
    "with open('y_train.pkl', 'rb') as file:\n",
    "    # Call load method to deserialze\n",
    "    y_train = pickle.load(file)\n",
    "    \n",
    "prediction_column_index=model_4.predict(X_test).argmax(axis=1)\n",
    "\n",
    "# extract correct prediction labels \n",
    "prediction_labels = [y_train.columns[i] for i in prediction_column_index]"
   ]
  },
  {
   "cell_type": "code",
   "execution_count": null,
   "metadata": {
    "colab": {
     "base_uri": "https://localhost:8080/"
    },
    "id": "jWiOv3eJwSTg",
    "outputId": "77070ac2-3ecd-44ee-801a-cb0d3b2b7b32"
   },
   "outputs": [
    {
     "name": "stdout",
     "output_type": "stream",
     "text": [
      "AI Modelshare Username:··········\n",
      "AI Modelshare Password:··········\n",
      "AI Model Share login credentials set successfully.\n"
     ]
    }
   ],
   "source": [
    "apiurl='https://bb4mkgq8sb.execute-api.us-east-2.amazonaws.com/prod/m'\n",
    "\n",
    "import aimodelshare as ai\n",
    "experiment= ai.Experiment(apiurl)\n",
    "\n",
    "from aimodelshare.aws import set_credentials\n",
    "set_credentials(apiurl=apiurl)"
   ]
  },
  {
   "cell_type": "code",
   "execution_count": null,
   "metadata": {
    "id": "ud66LL_ZwSTg"
   },
   "outputs": [],
   "source": [
    "# Submit Model 2 to Competition Leaderboard\n",
    "experiment.submit_model(model_filepath = \"model.onnx\",\n",
    "                                 preprocessor_filepath=\"preprocessor.zip\",\n",
    "                                 prediction_submission=prediction_labels)"
   ]
  },
  {
   "cell_type": "markdown",
   "metadata": {
    "id": "RQ0MV9N1ANEk"
   },
   "source": [
    "#Model 5 - ResNet50"
   ]
  },
  {
   "cell_type": "code",
   "execution_count": null,
   "metadata": {
    "id": "j2DKLA5dSFkV"
   },
   "outputs": [],
   "source": [
    "from tensorflow.keras.applications import resnet50\n",
    "from tensorflow.keras.models import Sequential,Model\n",
    "from tensorflow.keras.preprocessing import image\n",
    "from tensorflow.keras.models import Model\n",
    "from tensorflow.keras.layers import Dense, GlobalAveragePooling2D, Flatten\n",
    "from tensorflow.keras import backend as K\n",
    "\n",
    "base_model = ResNet50(input_shape=(192,192,3),\n",
    "                                               include_top=False, # Drops fully connected layers and output layer structure from pretrained model.\n",
    "                                               weights='imagenet') # Using weight from model trained to 1000 categories of imagenet competition\n",
    "base_model.summary()"
   ]
  },
  {
   "cell_type": "code",
   "execution_count": 5,
   "metadata": {
    "id": "u_hzoXuQSbxW"
   },
   "outputs": [],
   "source": [
    "base_model.trainable = False"
   ]
  },
  {
   "cell_type": "code",
   "execution_count": null,
   "metadata": {
    "id": "xjrPUCZDSbxW"
   },
   "outputs": [],
   "source": [
    "from tensorflow.keras.applications.resnet50 import ResNet50\n",
    "from tensorflow.keras.models import Model\n",
    "from tensorflow.keras.layers import Dense\n",
    "from tensorflow.keras.layers import Flatten\n",
    "\n",
    "# Create new classifier layers (and plug into output of last layer from above model using \"model.layers[-1].output\")\n",
    "flat1 = Flatten()(base_model.layers[-1].output)\n",
    "output = Dense(3, activation='softmax')(flat1)\n",
    "\n",
    "# define new model\n",
    "model_5 = Model(inputs=base_model.inputs, outputs=output) #base_model.inputs imports the vgg16 model defined in base_model\n",
    "\n",
    "# summarize\n",
    "model_5.summary()"
   ]
  },
  {
   "cell_type": "code",
   "execution_count": 8,
   "metadata": {
    "colab": {
     "base_uri": "https://localhost:8080/"
    },
    "id": "V_efLGe-S0Al",
    "outputId": "53aecb06-013a-4012-e5fb-2100ca686866"
   },
   "outputs": [
    {
     "name": "stdout",
     "output_type": "stream",
     "text": [
      "Epoch 1/5\n",
      "2192/2192 [==============================] - ETA: 0s - loss: 185.8692 - acc: 0.3663\n",
      "Epoch 00001: val_acc improved from -inf to 0.34062, saving model to best_model.h5\n",
      "2192/2192 [==============================] - 56s 21ms/step - loss: 185.8692 - acc: 0.3663 - val_loss: 166.1916 - val_acc: 0.3406 - lr: 0.0100\n",
      "Epoch 2/5\n",
      "2188/2192 [============================>.] - ETA: 0s - loss: 160.3878 - acc: 0.3885\n",
      "Epoch 00002: val_acc did not improve from 0.34062\n",
      "2192/2192 [==============================] - 39s 18ms/step - loss: 160.3369 - acc: 0.3887 - val_loss: 348.1394 - val_acc: 0.3388 - lr: 0.0100\n",
      "Epoch 3/5\n",
      "2192/2192 [==============================] - ETA: 0s - loss: 142.0010 - acc: 0.4649\n",
      "Epoch 00003: val_acc did not improve from 0.34062\n",
      "\n",
      "Epoch 00003: ReduceLROnPlateau reducing learning rate to 0.004999999888241291.\n",
      "2192/2192 [==============================] - 37s 17ms/step - loss: 142.0010 - acc: 0.4649 - val_loss: 254.2583 - val_acc: 0.3406 - lr: 0.0100\n",
      "Epoch 4/5\n",
      "2190/2192 [============================>.] - ETA: 0s - loss: 58.2393 - acc: 0.5881\n",
      "Epoch 00004: val_acc improved from 0.34062 to 0.61020, saving model to best_model.h5\n",
      "2192/2192 [==============================] - 38s 17ms/step - loss: 58.2559 - acc: 0.5880 - val_loss: 66.8328 - val_acc: 0.6102 - lr: 0.0050\n",
      "Epoch 5/5\n",
      "2190/2192 [============================>.] - ETA: 0s - loss: 54.0232 - acc: 0.5913\n",
      "Epoch 00005: val_acc improved from 0.61020 to 0.67213, saving model to best_model.h5\n",
      "2192/2192 [==============================] - 39s 18ms/step - loss: 54.1045 - acc: 0.5912 - val_loss: 31.2090 - val_acc: 0.6721 - lr: 0.0050\n"
     ]
    }
   ],
   "source": [
    "import tensorflow as tf\n",
    "with tf.device('/device:GPU:0'): #\"/GPU:0\": Short-hand notation for the first GPU of your machine that is visible to TensorFlow.\n",
    "  from tensorflow.python.keras.callbacks import ReduceLROnPlateau\n",
    "  from tensorflow.python.keras.callbacks import ModelCheckpoint\n",
    "  \n",
    "  mc = ModelCheckpoint('best_model.h5', monitor='val_acc',mode='max', verbose=1, save_best_only=True) # evaluating val_acc maximization\n",
    "  red_lr= ReduceLROnPlateau(monitor='val_acc',patience=2,verbose=1,factor=0.5, min_lr=0.001) # dividing lr by 2 when val_accuracy fails to improve after 2 epochs\n",
    "\n",
    "  model_5.compile(loss='categorical_crossentropy', optimizer='sgd', metrics=['acc']) \n",
    "\n",
    "  model_5.fit(X_train, y_train,batch_size=1,\n",
    "          epochs = 5, verbose=1,validation_split=.2, callbacks=[mc,red_lr])"
   ]
  },
  {
   "cell_type": "code",
   "execution_count": 9,
   "metadata": {
    "id": "TGskA8wBAS1_"
   },
   "outputs": [],
   "source": [
    "model_5.save(\"model_5.h5\", save_format=\"h5\")"
   ]
  },
  {
   "cell_type": "code",
   "execution_count": 12,
   "metadata": {
    "colab": {
     "base_uri": "https://localhost:8080/"
    },
    "id": "VE-0-8G8AS1_",
    "outputId": "6673245b-837f-4dab-efa7-556c9ad87f54"
   },
   "outputs": [
    {
     "name": "stdout",
     "output_type": "stream",
     "text": [
      "Your preprocessor is now saved to 'preprocessor.zip'\n"
     ]
    }
   ],
   "source": [
    "# Save preprocessor function (may need to reload function in cell above)\n",
    "import aimodelshare as ai\n",
    "ai.export_preprocessor(preprocessor,\"\")"
   ]
  },
  {
   "cell_type": "code",
   "execution_count": 14,
   "metadata": {
    "id": "d8WS7UlhAS1_"
   },
   "outputs": [],
   "source": [
    "# Save tf.keras model (or any tensorflow model) to local ONNX file\n",
    "from aimodelshare.aimsonnx import model_to_onnx\n",
    "\n",
    "onnx_model = model_to_onnx(model_5, framework='keras',\n",
    "                          transfer_learning=True,\n",
    "                          deep_learning=True)\n",
    "\n",
    "with open(\"model.onnx\", \"wb\") as f:\n",
    "    f.write(onnx_model.SerializeToString())"
   ]
  },
  {
   "cell_type": "code",
   "execution_count": 15,
   "metadata": {
    "colab": {
     "base_uri": "https://localhost:8080/"
    },
    "id": "6YRBxRgOAS2A",
    "outputId": "8e6b5ee1-b569-46bf-a0e7-e65954505542"
   },
   "outputs": [
    {
     "name": "stdout",
     "output_type": "stream",
     "text": [
      "41/41 [==============================] - 5s 80ms/step\n"
     ]
    }
   ],
   "source": [
    "#Use X_test data to generate model predictions and make leaderboard submission\n",
    "\n",
    "#Generate and save predictions\n",
    "\n",
    "#Load preprocessed data\n",
    "#If you run out of Colab memory restart runtime, reload data and try again\n",
    "import pickle\n",
    "  \n",
    "# Open the file in binary mode\n",
    "with open('/content/drive/MyDrive/Covid Train Test Split/X_test.pkl', 'rb') as file:\n",
    "    # Call load method to deserialze\n",
    "    X_test = pickle.load(file)\n",
    "\n",
    "# Open the file in binary mode\n",
    "with open('/content/drive/MyDrive/Covid Train Test Split/y_train.pkl', 'rb') as file:\n",
    "    # Call load method to deserialze\n",
    "    y_train = pickle.load(file)\n",
    "    \n",
    "prediction_column_index=model_5.predict(X_test).argmax(axis=1)\n",
    "\n",
    "# extract correct prediction labels \n",
    "prediction_labels = [y_train.columns[i] for i in prediction_column_index]"
   ]
  },
  {
   "cell_type": "code",
   "execution_count": 16,
   "metadata": {
    "colab": {
     "base_uri": "https://localhost:8080/"
    },
    "id": "VQlF5nZCAS2A",
    "outputId": "6ef50509-1db8-4a4a-a1b8-f6c23088b036"
   },
   "outputs": [
    {
     "name": "stdout",
     "output_type": "stream",
     "text": [
      "AI Modelshare Username:··········\n",
      "AI Modelshare Password:··········\n",
      "AI Model Share login credentials set successfully.\n"
     ]
    }
   ],
   "source": [
    "apiurl='https://bb4mkgq8sb.execute-api.us-east-2.amazonaws.com/prod/m'\n",
    "\n",
    "import aimodelshare as ai\n",
    "experiment= ai.Experiment(apiurl)\n",
    "\n",
    "from aimodelshare.aws import set_credentials\n",
    "set_credentials(apiurl=apiurl)"
   ]
  },
  {
   "cell_type": "code",
   "execution_count": null,
   "metadata": {
    "id": "RfGfitVzAS2A"
   },
   "outputs": [],
   "source": [
    "# Submit Model 2 to Competition Leaderboard\n",
    "experiment.submit_model(model_filepath = \"model.onnx\",\n",
    "                                 preprocessor_filepath=\"preprocessor.zip\",\n",
    "                                 prediction_submission=prediction_labels)"
   ]
  },
  {
   "cell_type": "markdown",
   "metadata": {
    "id": "azgOlE2OADhj"
   },
   "source": [
    "# Model 6 - Data Augmentation"
   ]
  },
  {
   "cell_type": "code",
   "execution_count": 5,
   "metadata": {
    "id": "8DKeZBWEue9j"
   },
   "outputs": [],
   "source": [
    "from tensorflow.keras.preprocessing.image import ImageDataGenerator\n",
    "\n",
    "#datagen = ImageDataGenerator(rescale=1/255.,validation_split=0.2)\n",
    "image_gen_train = ImageDataGenerator(\n",
    "                    rescale=1./255,\n",
    "                    rotation_range=45,\n",
    "                    width_shift_range=.15,\n",
    "                    height_shift_range=.15,\n",
    "                    horizontal_flip=True,\n",
    "                    zoom_range=0.5, \n",
    "                    validation_split=0.2\n",
    "                    )"
   ]
  },
  {
   "cell_type": "code",
   "execution_count": 6,
   "metadata": {
    "id": "4pDyHz2rvNkB"
   },
   "outputs": [],
   "source": [
    "train_data_gen = image_gen_train.flow(X_train, y_train, batch_size=128,subset='training',seed=7)\n",
    "val_data_gen = image_gen_train.flow(X_train, y_train, batch_size=128,subset='validation',seed=7)"
   ]
  },
  {
   "cell_type": "code",
   "execution_count": 7,
   "metadata": {
    "id": "ZHr3_t7EzcEm"
   },
   "outputs": [],
   "source": [
    "import tensorflow as tf\n",
    "\n",
    "with tf.device('/device:GPU:0'): #\"/GPU:0\": Short-hand notation for the first GPU of your machine that is visible to TensorFlow.\n",
    "\n",
    "  model_6 = tf.keras.Sequential([\n",
    "    # input: images of size Sample size, height, width, channels 1x192x192x3 pixels (the three stands for RGB channels)    \n",
    "    tf.keras.layers.Conv2D(kernel_size=3, filters=32, padding='same', activation='relu', input_shape=(192, 192, 3)),\n",
    "    tf.keras.layers.Conv2D(kernel_size=1, filters=32, padding='same', activation='relu'),\n",
    "    tf.keras.layers.MaxPooling2D(pool_size=2),\n",
    "    tf.keras.layers.Conv2D(kernel_size=3, filters=64, padding='same', activation='relu'),\n",
    "    tf.keras.layers.Conv2D(kernel_size=1, filters=64, padding='same', activation='relu'),\n",
    "    tf.keras.layers.MaxPooling2D(pool_size=2),\n",
    "    tf.keras.layers.Conv2D(kernel_size=3, filters=128, padding='same', activation='relu'),\n",
    "    tf.keras.layers.Conv2D(kernel_size=1, filters=128, padding='same', activation='relu'),\n",
    "    tf.keras.layers.MaxPooling2D(pool_size=2),\n",
    "    tf.keras.layers.Conv2D(kernel_size=3, filters=256, padding='same', activation='relu'),\n",
    "    tf.keras.layers.Conv2D(kernel_size=1, filters=256, padding='same', activation='relu'),\n",
    "    tf.keras.layers.MaxPooling2D(pool_size=2),\n",
    "    tf.keras.layers.Conv2D(kernel_size=3, filters=512, padding='same', activation='relu'),\n",
    "    tf.keras.layers.Conv2D(kernel_size=1, filters=512, padding='same', activation='relu'),\n",
    "    tf.keras.layers.Flatten(),\n",
    "    tf.keras.layers.Dense(3, activation='softmax')\n",
    "  ])"
   ]
  },
  {
   "cell_type": "code",
   "execution_count": 8,
   "metadata": {
    "id": "eKPqmjIV2Hrx"
   },
   "outputs": [],
   "source": [
    "model_6.compile(\n",
    "    optimizer=\"adam\", \n",
    "    loss= 'categorical_crossentropy',\n",
    "    metrics=['accuracy'])"
   ]
  },
  {
   "cell_type": "code",
   "execution_count": 11,
   "metadata": {
    "colab": {
     "base_uri": "https://localhost:8080/"
    },
    "id": "fgqZtgnf0t_U",
    "outputId": "7d234ce9-efd0-4e08-e7c3-a0c63a4db881"
   },
   "outputs": [
    {
     "name": "stdout",
     "output_type": "stream",
     "text": [
      "Epoch 1/5\n",
      "17/17 [==============================] - 43s 1s/step - loss: 1.0998 - accuracy: 0.3370 - val_loss: 1.0983 - val_accuracy: 0.3477\n",
      "Epoch 2/5\n",
      "17/17 [==============================] - 27s 2s/step - loss: 1.0991 - accuracy: 0.3259 - val_loss: 1.0999 - val_accuracy: 0.3262\n",
      "Epoch 3/5\n",
      "17/17 [==============================] - 25s 1s/step - loss: 1.0997 - accuracy: 0.3346 - val_loss: 1.0994 - val_accuracy: 0.3184\n",
      "Epoch 4/5\n",
      "17/17 [==============================] - 26s 2s/step - loss: 1.0987 - accuracy: 0.3293 - val_loss: 1.0985 - val_accuracy: 0.3496\n",
      "Epoch 5/5\n",
      "17/17 [==============================] - 30s 2s/step - loss: 1.0986 - accuracy: 0.3327 - val_loss: 1.0988 - val_accuracy: 0.3242\n"
     ]
    }
   ],
   "source": [
    "history = model_6.fit(\n",
    "    train_data_gen,\n",
    "    steps_per_epoch=(len(X_train)*0.8)//128,\n",
    "    epochs=5,\n",
    "    validation_data=val_data_gen,\n",
    "    validation_steps=(len(X_train)*0.2)//128)"
   ]
  },
  {
   "cell_type": "code",
   "execution_count": 13,
   "metadata": {
    "id": "SYRl_rJC7LFs"
   },
   "outputs": [],
   "source": [
    "model_6.save(\"model_6.h5\", save_format=\"h5\")"
   ]
  },
  {
   "cell_type": "code",
   "execution_count": 3,
   "metadata": {
    "colab": {
     "base_uri": "https://localhost:8080/"
    },
    "id": "W8w3dglu7LFt",
    "outputId": "4b6b574b-8733-4dfe-d248-4d32931c20f8"
   },
   "outputs": [
    {
     "name": "stdout",
     "output_type": "stream",
     "text": [
      "Your preprocessor is now saved to 'preprocessor.zip'\n"
     ]
    }
   ],
   "source": [
    "# Save preprocessor function (may need to reload function in cell above)\n",
    "import aimodelshare as ai\n",
    "ai.export_preprocessor(preprocessor,\"\")"
   ]
  },
  {
   "cell_type": "code",
   "execution_count": 5,
   "metadata": {
    "colab": {
     "base_uri": "https://localhost:8080/"
    },
    "id": "3C30qaRU7LFs",
    "outputId": "8031543f-85cd-4d88-f033-00c9dbf49077"
   },
   "outputs": [
    {
     "name": "stdout",
     "output_type": "stream",
     "text": [
      "Model: \"sequential\"\n",
      "_________________________________________________________________\n",
      " Layer (type)                Output Shape              Param #   \n",
      "=================================================================\n",
      " conv2d (Conv2D)             (None, 192, 192, 32)      896       \n",
      "                                                                 \n",
      " conv2d_1 (Conv2D)           (None, 192, 192, 32)      1056      \n",
      "                                                                 \n",
      " max_pooling2d (MaxPooling2D  (None, 96, 96, 32)       0         \n",
      " )                                                               \n",
      "                                                                 \n",
      " conv2d_2 (Conv2D)           (None, 96, 96, 64)        18496     \n",
      "                                                                 \n",
      " conv2d_3 (Conv2D)           (None, 96, 96, 64)        4160      \n",
      "                                                                 \n",
      " max_pooling2d_1 (MaxPooling  (None, 48, 48, 64)       0         \n",
      " 2D)                                                             \n",
      "                                                                 \n",
      " conv2d_4 (Conv2D)           (None, 48, 48, 128)       73856     \n",
      "                                                                 \n",
      " conv2d_5 (Conv2D)           (None, 48, 48, 128)       16512     \n",
      "                                                                 \n",
      " max_pooling2d_2 (MaxPooling  (None, 24, 24, 128)      0         \n",
      " 2D)                                                             \n",
      "                                                                 \n",
      " conv2d_6 (Conv2D)           (None, 24, 24, 256)       295168    \n",
      "                                                                 \n",
      " conv2d_7 (Conv2D)           (None, 24, 24, 256)       65792     \n",
      "                                                                 \n",
      " max_pooling2d_3 (MaxPooling  (None, 12, 12, 256)      0         \n",
      " 2D)                                                             \n",
      "                                                                 \n",
      " conv2d_8 (Conv2D)           (None, 12, 12, 512)       1180160   \n",
      "                                                                 \n",
      " conv2d_9 (Conv2D)           (None, 12, 12, 512)       262656    \n",
      "                                                                 \n",
      " flatten (Flatten)           (None, 73728)             0         \n",
      "                                                                 \n",
      " dense (Dense)               (None, 3)                 221187    \n",
      "                                                                 \n",
      "=================================================================\n",
      "Total params: 2,139,939\n",
      "Trainable params: 2,139,939\n",
      "Non-trainable params: 0\n",
      "_________________________________________________________________\n"
     ]
    }
   ],
   "source": [
    "# Reload model and data\n",
    "import tensorflow as tf\n",
    "model_6 = tf.keras.models.load_model('model_6.h5',compile=False)\n",
    "model_6.compile(\n",
    "    optimizer=\"adam\", # to use callback set lr arg such as Adam(lr=0.001) instead\n",
    "    loss= 'categorical_crossentropy',\n",
    "    metrics=['accuracy'])\n",
    "model_6.summary()"
   ]
  },
  {
   "cell_type": "code",
   "execution_count": 6,
   "metadata": {
    "id": "CnpG_cOp7LFt"
   },
   "outputs": [],
   "source": [
    "# Save tf.keras model (or any tensorflow model) to local ONNX file\n",
    "from aimodelshare.aimsonnx import model_to_onnx\n",
    "\n",
    "onnx_model = model_to_onnx(model_6, framework='keras',\n",
    "                          transfer_learning=False,\n",
    "                          deep_learning=True)\n",
    "\n",
    "with open(\"model.onnx\", \"wb\") as f:\n",
    "    f.write(onnx_model.SerializeToString())"
   ]
  },
  {
   "cell_type": "code",
   "execution_count": 7,
   "metadata": {
    "colab": {
     "base_uri": "https://localhost:8080/"
    },
    "id": "UkWN15dt7LFt",
    "outputId": "4efea3a7-ddbd-4d1a-d779-0c95a5954897"
   },
   "outputs": [
    {
     "name": "stdout",
     "output_type": "stream",
     "text": [
      "41/41 [==============================] - 9s 40ms/step\n"
     ]
    }
   ],
   "source": [
    "#Use X_test data to generate model predictions and make leaderboard submission\n",
    "\n",
    "#Generate and save predictions\n",
    "\n",
    "#Load preprocessed data\n",
    "#If you run out of Colab memory restart runtime, reload data and try again\n",
    "import pickle\n",
    "  \n",
    "# Open the file in binary mode\n",
    "with open('/content/drive/MyDrive/Covid Train Test Split/X_test.pkl', 'rb') as file:\n",
    "    # Call load method to deserialze\n",
    "    X_test = pickle.load(file)\n",
    "\n",
    "# Open the file in binary mode\n",
    "with open('/content/drive/MyDrive/Covid Train Test Split/y_train.pkl', 'rb') as file:\n",
    "    # Call load method to deserialze\n",
    "    y_train = pickle.load(file)\n",
    "    \n",
    "prediction_column_index=model_6.predict(X_test).argmax(axis=1)\n",
    "\n",
    "# extract correct prediction labels \n",
    "prediction_labels = [y_train.columns[i] for i in prediction_column_index]"
   ]
  },
  {
   "cell_type": "code",
   "execution_count": 8,
   "metadata": {
    "colab": {
     "base_uri": "https://localhost:8080/"
    },
    "id": "rwFyRgdH7LFt",
    "outputId": "1d223737-b3e2-4432-b3b4-5f9569312ff2"
   },
   "outputs": [
    {
     "name": "stdout",
     "output_type": "stream",
     "text": [
      "AI Modelshare Username:··········\n",
      "AI Modelshare Password:··········\n",
      "AI Model Share login credentials set successfully.\n"
     ]
    }
   ],
   "source": [
    "apiurl='https://bb4mkgq8sb.execute-api.us-east-2.amazonaws.com/prod/m'\n",
    "\n",
    "import aimodelshare as ai\n",
    "experiment= ai.Experiment(apiurl)\n",
    "\n",
    "from aimodelshare.aws import set_credentials\n",
    "set_credentials(apiurl=apiurl)"
   ]
  },
  {
   "cell_type": "code",
   "execution_count": null,
   "metadata": {
    "id": "R4s5Adb_-AM-"
   },
   "outputs": [],
   "source": [
    "# Submit Model 2 to Competition Leaderboard\n",
    "experiment.submit_model(model_filepath = \"model.onnx\",\n",
    "                                 preprocessor_filepath=\"preprocessor.zip\",\n",
    "                                 prediction_submission=prediction_labels)"
   ]
  },
  {
   "cell_type": "code",
   "execution_count": null,
   "metadata": {
    "id": "OIuoxLLn05PY"
   },
   "outputs": [],
   "source": [
    "data = experiment.get_leaderboard()\n",
    "experiment.stylize_leaderboard(data)"
   ]
  },
  {
   "cell_type": "markdown",
   "metadata": {
    "id": "FPr9mQeWgp4S"
   },
   "source": [
    "# Additional Model Training Overview & Recap\n",
    "\n",
    "After the first 3 sequential models, I used transfer learning for 2 additional models. The first additional model (Model 4) that I trained was an Inception V3 model using the imagenet weights which is a Functional model. SGD optimization seemed to work well for this model which performed quite well, yielding an f1 score of 86.77% an precision score of 87.81%. Next I used transfer learning once more to train a ResNet50 model, which did not perform as well as the Inception V3 model. Here I trained the model for just 5 epochs, due to limited resources. Model checkpoints were used to reduce the learning rate, and as the learning rate was reduced, the validation accuracy subsequently improved. However, because I was unable to train as many epochs as desired, this model did not predict as well, with an f1 score of 64.46% and precision score of\t70.52%. Had I run more epochs I believe the precision and f1 scores would have increased substantially.\n",
    "\n",
    "I finally trained a Sequential model with augemented data (Model 6), however this model performed surprisingly poorly with an f1 score and precision scores both below 20%. I suspect that the lack of training resources also hindered this model from predicting better. \n",
    "\n",
    "Overall the best Model for prediction ended up being Model 1, the very first Sequential Model that I trained and fit, with all other models failing to achieve a higher f1 or precision score. "
   ]
  },
  {
   "cell_type": "markdown",
   "metadata": {
    "id": "B2QivWXqngML"
   },
   "source": [
    "Citation of paper providing original dataset:  M.E.H. Chowdhury, T. Rahman, A. Khandakar, R. Mazhar, M.A. Kadir, Z.B. Mahbub, K.R. Islam, M.S. Khan, A. Iqbal, N. Al-Emadi, M.B.I. Reaz, “Can AI help in screening Viral and COVID-19 pneumonia?” arXiv preprint, 29 March 2020, https://arxiv.org/abs/2003.13145"
   ]
  }
 ],
 "metadata": {
  "accelerator": "GPU",
  "colab": {
   "provenance": [],
   "toc_visible": true
  },
  "kernelspec": {
   "display_name": "Python 3 (ipykernel)",
   "language": "python",
   "name": "python3"
  },
  "language_info": {
   "codemirror_mode": {
    "name": "ipython",
    "version": 3
   },
   "file_extension": ".py",
   "mimetype": "text/x-python",
   "name": "python",
   "nbconvert_exporter": "python",
   "pygments_lexer": "ipython3",
   "version": "3.9.16"
  }
 },
 "nbformat": 4,
 "nbformat_minor": 1
}
