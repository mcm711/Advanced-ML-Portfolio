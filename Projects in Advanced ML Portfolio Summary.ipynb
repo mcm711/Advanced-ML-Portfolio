{
 "cells": [
  {
   "cell_type": "markdown",
   "id": "e9e4cd51",
   "metadata": {},
   "source": [
    "# Projects in Advanced ML Portfolio Summary \n",
    "\n",
    "Link to repo: https://github.com/mcm711/Advanced-ML-Portfolio"
   ]
  },
  {
   "cell_type": "markdown",
   "id": "1914cde9",
   "metadata": {},
   "source": [
    "## Assignment 1 - World Happiness Prediction\n",
    "\n",
    "Notebook link: https://github.com/mcm711/Advanced-ML-Portfolio/blob/main/Assignments/Projects%20in%20Advanced%20ML%20(World%20Happiness%20Data).ipynb\n",
    "\n",
    "This assignment required training and submitting models that could be used to predict the happiness score of a particular country on a 5 point scale with 1 being the lowest and 5 being the highest. The dataset used was the UN World Happiness Data, consisting of 11 columns of data with information like GDP and life expectancy. \n",
    "\n",
    "Models trained included Random Forest, K-Means, and Gradient Boosted classification models. Gradient Boosted Models with feature selection using LassoCV seemed to yield the best results, however the best models only performed adequately at best (the best f1 scores were approximately .50) due to the small size of the dataset (88 rows). "
   ]
  },
  {
   "cell_type": "markdown",
   "id": "d4481bc8",
   "metadata": {},
   "source": [
    "## Assignment 2 - COVID Prediction Deep Learning using X-Ray Image Data \n",
    "\n",
    "Notebook link: https://github.com/mcm711/Advanced-ML-Portfolio/blob/main/Assignments/Projects%20in%20Advanced%20ML%20(COVID%20Image%20Hackathon).ipynb\n",
    "\n",
    "This assignment reqired training and submitting deep learning models to predict whether an X-Ray image was indicative of one of three possibilities: a COVID-19 infection, a Viral Pneumonia infection, or Neither. The dataset was derived from the paper found at this link: https://arxiv.org/abs/2003.13145 and featured thousands of labeled images with one of the three prediction labels assigned to it.  \n",
    "\n",
    "The reason this dataset is useful to build predictive models from is that it could be used by epidemiologists and doctors for detecting the presence of viral illnesses such as COVID and Pneumonia, especially when they do not have access to testing kits. X-Rays are widely used medical techology and available to medical professionals world-wide, and in the event of an outbreak, they could simply take X-rays of patients lungs and use the model to help make a determination of whether or not a patient has a particular illness. This could be extremely useful in remote areas or areas without access to other types of advanced testing equipment, and help medical professionals potentially identify an outbreak sooner and take quick action to prevent the further spread of infection. \n",
    "\n",
    "A variety of Deep Learning models, both Sequential and Functional API models, were trained and submitted to a competition leaderboard. Sequential models were built with different layer/filter types (Dense, Conv2D, MaxPooling2D, etc.) various kernel and filter sizes, and in a variety of different architectures. Transfer learning was used as well, including training a VGG16 model, an InceptionV3 model, and a ResNet50 model. Data augmentation was also used to try and enhance the robustness of the models. \n",
    "\n",
    "Of all the models that were trained, the simpler Sequential models with fewer layers and trainable parameters performed quite well, with the best results yielding an f1 score of 88.36% and precision of 88.78%. One reason for this was the lack of compute resources to train models meant that more complex models did not have sufficient time or compute power to optimally train. I believe the Transfer learning models would've performed well given enough time to train for more epochs and at a lower learning rate."
   ]
  },
  {
   "cell_type": "markdown",
   "id": "5747d7a8",
   "metadata": {},
   "source": [
    "## Assignment 3\n",
    "\n",
    "Notebook link: https://github.com/mcm711/Advanced-ML-Portfolio/blob/main/Assignments/Projects%20in%20Advanced%20ML%20(Sentiment%20Analysis).ipynb\n",
    "\n",
    "This assignment required training and submitting models to predict the sentiment of a body of text. This data set consisted of 6920 rows of text data and each row was assigned a sentiment score that indicated whether the text was positive or negative. Practically speaking this type of model would be good for judging sentiment from things like social media sites or comments sections on websites, especially in real-time. \n",
    "\n",
    "Models types that were trained were several LSTM models with different layer architectures and parameters, a model utilizing stacked Conv1D layers, a model with both LSTM and Conv1D layers, and a model using GloVe embeddings.  \n",
    "\n",
    "The best performing of the models that were trained had a model architecture consisting of stacked Conv1D layers followed by stacked LSTM layers, which achieved a score of 80.24% for both f-1 and accuracy. "
   ]
  },
  {
   "cell_type": "code",
   "execution_count": null,
   "id": "a5ba3ee7",
   "metadata": {},
   "outputs": [],
   "source": []
  }
 ],
 "metadata": {
  "kernelspec": {
   "display_name": "Python 3 (ipykernel)",
   "language": "python",
   "name": "python3"
  },
  "language_info": {
   "codemirror_mode": {
    "name": "ipython",
    "version": 3
   },
   "file_extension": ".py",
   "mimetype": "text/x-python",
   "name": "python",
   "nbconvert_exporter": "python",
   "pygments_lexer": "ipython3",
   "version": "3.9.16"
  }
 },
 "nbformat": 4,
 "nbformat_minor": 5
}
